{
 "cells": [
  {
   "cell_type": "markdown",
   "metadata": {},
   "source": [
    "# Application of data analytics tools for predicting the results of a biathlon sports competition"
   ]
  },
  {
   "cell_type": "markdown",
   "metadata": {},
   "source": [
    "The purpose of this project is to test the ability to predict the final results of biathletes in a particular race"
   ]
  },
  {
   "cell_type": "markdown",
   "metadata": {},
   "source": [
    "In the first part of the study we will explore the possibility of predicting the performance parameters of athletes in the next race based on the parameters of their previous performances. This task comes down to creating time series with the performance parameters of each athlete in the 2020-2021 season and analyzing these time series."
   ]
  },
  {
   "cell_type": "code",
   "execution_count": 1,
   "metadata": {},
   "outputs": [],
   "source": [
    "import pandas as pd\n",
    "import numpy as np"
   ]
  },
  {
   "cell_type": "markdown",
   "metadata": {},
   "source": [
    "In this project the technical protocols of the races of the World Cups and the Biathlon World Championships of the seasons '2019-2020' and '2020-2021' are used ('SIWIDATA')."
   ]
  },
  {
   "cell_type": "code",
   "execution_count": 2,
   "metadata": {},
   "outputs": [],
   "source": [
    "# save the technical protocols of the races in the variables with Pandas method '.read_excel()'\n",
    "Sprint1 = pd.read_excel('races_protocols/menSprint20201.xlsx')\n",
    "Sprint2 = pd.read_excel('races_protocols/menSprint20202.xlsx')\n",
    "Sprint3 = pd.read_excel('races_protocols/menSprint20203.xlsx')\n",
    "Sprint4 = pd.read_excel('races_protocols/menSprint20204.xlsx')\n",
    "Sprint5 = pd.read_excel('races_protocols/menSprint20205.xlsx') \n",
    "Sprint6 = pd.read_excel('races_protocols/menSprint20206.xlsx')\n",
    "Sprint7 = pd.read_excel('races_protocols/menSprint20207.xlsx')\n",
    "Sprint8 = pd.read_excel('races_protocols/menSprint20208.xlsx')\n",
    "Sprint9 = pd.read_excel('races_protocols/menSprint20211.xlsx')\n",
    "Sprint10 = pd.read_excel('races_protocols/menSprint20212.xlsx')\n",
    "Sprint11 = pd.read_excel('races_protocols/menSprint20213.xlsx')\n",
    "Sprint12 = pd.read_excel('races_protocols/menSprint20214.xlsx')\n",
    "Sprint13 = pd.read_excel('races_protocols/menSprint20215.xlsx')\n",
    "Sprint14 = pd.read_excel('races_protocols/menSprint20216.xlsx')\n",
    "Sprint15 = pd.read_excel('races_protocols/menSprint20217.xlsx')\n",
    "Sprint16 = pd.read_excel('races_protocols/menSprint20218.xlsx')\n",
    "\n",
    "# The variable \"Sprint17\" contains information about the race results will be predicted of\n",
    "Sprint17 = pd.read_excel('races_protocols/menSprint20219.xlsx')"
   ]
  },
  {
   "cell_type": "code",
   "execution_count": 3,
   "metadata": {},
   "outputs": [],
   "source": [
    "# List 'AllSprintList' contains all the variables\n",
    "AllSprintList = [Sprint1, Sprint2, Sprint3, Sprint4, Sprint5, Sprint6, Sprint7, Sprint8, \n",
    "                 Sprint9, Sprint10, Sprint11, Sprint12, Sprint13, Sprint14, Sprint15, \n",
    "                 Sprint16, Sprint17]"
   ]
  },
  {
   "cell_type": "markdown",
   "metadata": {},
   "source": [
    "Let's have a look at data"
   ]
  },
  {
   "cell_type": "code",
   "execution_count": 4,
   "metadata": {},
   "outputs": [
    {
     "data": {
      "text/html": [
       "<div>\n",
       "<style scoped>\n",
       "    .dataframe tbody tr th:only-of-type {\n",
       "        vertical-align: middle;\n",
       "    }\n",
       "\n",
       "    .dataframe tbody tr th {\n",
       "        vertical-align: top;\n",
       "    }\n",
       "\n",
       "    .dataframe thead th {\n",
       "        text-align: right;\n",
       "    }\n",
       "</style>\n",
       "<table border=\"1\" class=\"dataframe\">\n",
       "  <thead>\n",
       "    <tr style=\"text-align: right;\">\n",
       "      <th></th>\n",
       "      <th>ibuid</th>\n",
       "      <th>familyName</th>\n",
       "      <th>givenName</th>\n",
       "      <th>nation</th>\n",
       "      <th>Date</th>\n",
       "      <th>speed</th>\n",
       "      <th>pronePercent</th>\n",
       "      <th>standingPercent</th>\n",
       "      <th>totalShootingTime</th>\n",
       "      <th>Rank</th>\n",
       "    </tr>\n",
       "  </thead>\n",
       "  <tbody>\n",
       "    <tr>\n",
       "      <th>0</th>\n",
       "      <td>BTNOR11605199301</td>\n",
       "      <td>Boe</td>\n",
       "      <td>Johannes Thingnes</td>\n",
       "      <td>NOR</td>\n",
       "      <td>2019-12-01</td>\n",
       "      <td>26.845886</td>\n",
       "      <td>0.8</td>\n",
       "      <td>1.0</td>\n",
       "      <td>33.15</td>\n",
       "      <td>1</td>\n",
       "    </tr>\n",
       "    <tr>\n",
       "      <th>1</th>\n",
       "      <td>BTNOR12907198801</td>\n",
       "      <td>Boe</td>\n",
       "      <td>Tarjei</td>\n",
       "      <td>NOR</td>\n",
       "      <td>2019-12-01</td>\n",
       "      <td>26.676103</td>\n",
       "      <td>1.0</td>\n",
       "      <td>0.8</td>\n",
       "      <td>40.50</td>\n",
       "      <td>2</td>\n",
       "    </tr>\n",
       "    <tr>\n",
       "      <th>2</th>\n",
       "      <td>BTRUS13103199301</td>\n",
       "      <td>Eliseev</td>\n",
       "      <td>Matvey</td>\n",
       "      <td>RUS</td>\n",
       "      <td>2019-12-01</td>\n",
       "      <td>25.888645</td>\n",
       "      <td>1.0</td>\n",
       "      <td>1.0</td>\n",
       "      <td>30.60</td>\n",
       "      <td>3</td>\n",
       "    </tr>\n",
       "    <tr>\n",
       "      <th>3</th>\n",
       "      <td>BTRUS13101199201</td>\n",
       "      <td>Loginov</td>\n",
       "      <td>Alexander</td>\n",
       "      <td>RUS</td>\n",
       "      <td>2019-12-01</td>\n",
       "      <td>26.084959</td>\n",
       "      <td>1.0</td>\n",
       "      <td>0.8</td>\n",
       "      <td>25.75</td>\n",
       "      <td>4</td>\n",
       "    </tr>\n",
       "    <tr>\n",
       "      <th>4</th>\n",
       "      <td>BTFRA11409198801</td>\n",
       "      <td>Fourcade</td>\n",
       "      <td>Martin</td>\n",
       "      <td>FRA</td>\n",
       "      <td>2019-12-01</td>\n",
       "      <td>26.815409</td>\n",
       "      <td>1.0</td>\n",
       "      <td>0.6</td>\n",
       "      <td>35.60</td>\n",
       "      <td>5</td>\n",
       "    </tr>\n",
       "  </tbody>\n",
       "</table>\n",
       "</div>"
      ],
      "text/plain": [
       "              ibuid familyName          givenName nation       Date  \\\n",
       "0  BTNOR11605199301        Boe  Johannes Thingnes    NOR 2019-12-01   \n",
       "1  BTNOR12907198801        Boe             Tarjei    NOR 2019-12-01   \n",
       "2  BTRUS13103199301    Eliseev             Matvey    RUS 2019-12-01   \n",
       "3  BTRUS13101199201    Loginov          Alexander    RUS 2019-12-01   \n",
       "4  BTFRA11409198801   Fourcade             Martin    FRA 2019-12-01   \n",
       "\n",
       "       speed  pronePercent  standingPercent  totalShootingTime  Rank  \n",
       "0  26.845886           0.8              1.0              33.15     1  \n",
       "1  26.676103           1.0              0.8              40.50     2  \n",
       "2  25.888645           1.0              1.0              30.60     3  \n",
       "3  26.084959           1.0              0.8              25.75     4  \n",
       "4  26.815409           1.0              0.6              35.60     5  "
      ]
     },
     "execution_count": 4,
     "metadata": {},
     "output_type": "execute_result"
    }
   ],
   "source": [
    "AllSprintList[0].head()"
   ]
  },
  {
   "cell_type": "code",
   "execution_count": 5,
   "metadata": {},
   "outputs": [
    {
     "name": "stdout",
     "output_type": "stream",
     "text": [
      "<class 'pandas.core.frame.DataFrame'>\n",
      "RangeIndex: 101 entries, 0 to 100\n",
      "Data columns (total 10 columns):\n",
      " #   Column             Non-Null Count  Dtype         \n",
      "---  ------             --------------  -----         \n",
      " 0   ibuid              101 non-null    object        \n",
      " 1   familyName         101 non-null    object        \n",
      " 2   givenName          101 non-null    object        \n",
      " 3   nation             101 non-null    object        \n",
      " 4   Date               101 non-null    datetime64[ns]\n",
      " 5   speed              101 non-null    float64       \n",
      " 6   pronePercent       101 non-null    float64       \n",
      " 7   standingPercent    101 non-null    float64       \n",
      " 8   totalShootingTime  101 non-null    float64       \n",
      " 9   Rank               101 non-null    int64         \n",
      "dtypes: datetime64[ns](1), float64(4), int64(1), object(4)\n",
      "memory usage: 8.0+ KB\n"
     ]
    },
    {
     "data": {
      "text/html": [
       "<div>\n",
       "<style scoped>\n",
       "    .dataframe tbody tr th:only-of-type {\n",
       "        vertical-align: middle;\n",
       "    }\n",
       "\n",
       "    .dataframe tbody tr th {\n",
       "        vertical-align: top;\n",
       "    }\n",
       "\n",
       "    .dataframe thead th {\n",
       "        text-align: right;\n",
       "    }\n",
       "</style>\n",
       "<table border=\"1\" class=\"dataframe\">\n",
       "  <thead>\n",
       "    <tr style=\"text-align: right;\">\n",
       "      <th></th>\n",
       "      <th>speed</th>\n",
       "      <th>pronePercent</th>\n",
       "      <th>standingPercent</th>\n",
       "      <th>totalShootingTime</th>\n",
       "      <th>Rank</th>\n",
       "    </tr>\n",
       "  </thead>\n",
       "  <tbody>\n",
       "    <tr>\n",
       "      <th>count</th>\n",
       "      <td>107.000000</td>\n",
       "      <td>107.000000</td>\n",
       "      <td>107.000000</td>\n",
       "      <td>107.000000</td>\n",
       "      <td>107.000000</td>\n",
       "    </tr>\n",
       "    <tr>\n",
       "      <th>mean</th>\n",
       "      <td>25.462767</td>\n",
       "      <td>0.814860</td>\n",
       "      <td>0.786822</td>\n",
       "      <td>29.899533</td>\n",
       "      <td>53.971963</td>\n",
       "    </tr>\n",
       "    <tr>\n",
       "      <th>std</th>\n",
       "      <td>0.858543</td>\n",
       "      <td>0.206514</td>\n",
       "      <td>0.207722</td>\n",
       "      <td>4.025042</td>\n",
       "      <td>31.008355</td>\n",
       "    </tr>\n",
       "    <tr>\n",
       "      <th>min</th>\n",
       "      <td>23.083236</td>\n",
       "      <td>0.200000</td>\n",
       "      <td>0.000000</td>\n",
       "      <td>22.600000</td>\n",
       "      <td>1.000000</td>\n",
       "    </tr>\n",
       "    <tr>\n",
       "      <th>25%</th>\n",
       "      <td>24.827154</td>\n",
       "      <td>0.700000</td>\n",
       "      <td>0.600000</td>\n",
       "      <td>27.225000</td>\n",
       "      <td>27.500000</td>\n",
       "    </tr>\n",
       "    <tr>\n",
       "      <th>50%</th>\n",
       "      <td>25.444756</td>\n",
       "      <td>0.800000</td>\n",
       "      <td>0.800000</td>\n",
       "      <td>29.500000</td>\n",
       "      <td>54.000000</td>\n",
       "    </tr>\n",
       "    <tr>\n",
       "      <th>75%</th>\n",
       "      <td>26.098684</td>\n",
       "      <td>1.000000</td>\n",
       "      <td>1.000000</td>\n",
       "      <td>32.175000</td>\n",
       "      <td>80.500000</td>\n",
       "    </tr>\n",
       "    <tr>\n",
       "      <th>max</th>\n",
       "      <td>27.370453</td>\n",
       "      <td>1.000000</td>\n",
       "      <td>1.000000</td>\n",
       "      <td>42.650000</td>\n",
       "      <td>107.000000</td>\n",
       "    </tr>\n",
       "  </tbody>\n",
       "</table>\n",
       "</div>"
      ],
      "text/plain": [
       "            speed  pronePercent  standingPercent  totalShootingTime  \\\n",
       "count  107.000000    107.000000       107.000000         107.000000   \n",
       "mean    25.462767      0.814860         0.786822          29.899533   \n",
       "std      0.858543      0.206514         0.207722           4.025042   \n",
       "min     23.083236      0.200000         0.000000          22.600000   \n",
       "25%     24.827154      0.700000         0.600000          27.225000   \n",
       "50%     25.444756      0.800000         0.800000          29.500000   \n",
       "75%     26.098684      1.000000         1.000000          32.175000   \n",
       "max     27.370453      1.000000         1.000000          42.650000   \n",
       "\n",
       "             Rank  \n",
       "count  107.000000  \n",
       "mean    53.971963  \n",
       "std     31.008355  \n",
       "min      1.000000  \n",
       "25%     27.500000  \n",
       "50%     54.000000  \n",
       "75%     80.500000  \n",
       "max    107.000000  "
      ]
     },
     "execution_count": 5,
     "metadata": {},
     "output_type": "execute_result"
    }
   ],
   "source": [
    "AllSprintList[8].info()\n",
    "AllSprintList[10].describe()"
   ]
  },
  {
   "cell_type": "markdown",
   "metadata": {},
   "source": [
    "Each biathlete has a unique identification number \"ibuid\", the date of the competition in the \"Date\" column, the average speed in the race in the \"speed\" column, the accuracy of shooting in the prone position in the \"pronePercent\" column, the accuracy of shooting in the standing position in the \"standingPercent\" column, the total amount of time spent on shooting in the \"totalShootingTime\" column, the final place in the race in the \"Rank\" column"
   ]
  },
  {
   "cell_type": "code",
   "execution_count": 6,
   "metadata": {},
   "outputs": [],
   "source": [
    "import seaborn as sns\n",
    "import matplotlib.pyplot as plt"
   ]
  },
  {
   "cell_type": "markdown",
   "metadata": {},
   "source": [
    "Let's build Boxplot graphs for each of the parameters for one of the races"
   ]
  },
  {
   "cell_type": "code",
   "execution_count": 7,
   "metadata": {},
   "outputs": [
    {
     "data": {
      "text/plain": [
       "<AxesSubplot:xlabel='speed'>"
      ]
     },
     "execution_count": 7,
     "metadata": {},
     "output_type": "execute_result"
    },
    {
     "data": {
      "image/png": "[encoded data removed]",
      "text/plain": [
       "<Figure size 432x288 with 1 Axes>"
      ]
     },
     "metadata": {
      "needs_background": "light"
     },
     "output_type": "display_data"
    }
   ],
   "source": [
    "sns.boxplot(x=AllSprintList[15]['speed'], palette='Set3')\n",
    "sns.swarmplot(x=AllSprintList[15]['speed'], color='.15')"
   ]
  },
  {
   "cell_type": "code",
   "execution_count": 8,
   "metadata": {},
   "outputs": [
    {
     "data": {
      "text/plain": [
       "<AxesSubplot:xlabel='totalShootingTime'>"
      ]
     },
     "execution_count": 8,
     "metadata": {},
     "output_type": "execute_result"
    },
    {
     "data": {
      "image/png": "[encoded data removed]",
      "text/plain": [
       "<Figure size 432x288 with 1 Axes>"
      ]
     },
     "metadata": {
      "needs_background": "light"
     },
     "output_type": "display_data"
    }
   ],
   "source": [
    "sns.boxplot(x=AllSprintList[15]['totalShootingTime'], palette='Set3')\n",
    "sns.swarmplot(x=AllSprintList[15]['totalShootingTime'], color='.15')"
   ]
  },
  {
   "cell_type": "code",
   "execution_count": 9,
   "metadata": {},
   "outputs": [
    {
     "data": {
      "text/plain": [
       "<AxesSubplot:>"
      ]
     },
     "execution_count": 9,
     "metadata": {},
     "output_type": "execute_result"
    },
    {
     "data": {
      "image/png": "[encoded data removed]",
      "text/plain": [
       "<Figure size 432x288 with 1 Axes>"
      ]
     },
     "metadata": {
      "needs_background": "light"
     },
     "output_type": "display_data"
    }
   ],
   "source": [
    "sns.boxplot(data=AllSprintList[15][['pronePercent',\n",
    "'standingPercent']], palette='Set3')"
   ]
  },
  {
   "cell_type": "markdown",
   "metadata": {},
   "source": [
    "The graphs above allow us to conclude that data contains outliers that can negatively affect the accuracy of the forecast. However taking into account the specifics of the subject we should abandon the idea of getting rid of all values that lie outside the 95 percentile. \n",
    "Talking about the speed the high value cannot be considered a random value. It is impossible to show a high speed ski course by accident. If a biathlete shows an abnormally high level of speed then this indicates his excellent skiing form. Thus by clearing this value from the input data we will not be able to increase the accuracy of the forecast. At the same time, low speed can be caused by random factors: for example, a biathlete may fall. This value will \"pollute\" the input data, since a fall in biathlon is a statistically insignificant phenomenon.\n",
    "As for the total shooting time it also seems impractical to discard data on a too low value of the shooting time, since this value can only be due to a high degree of athlete's shooting form. On the other hand, if the shooting time value is too high this may indicate that the biathlete had difficulties with the equipment, and the result can be considered random.\n",
    "The shooting accuracy values are biased towards high accuracy, so there are no values beyond 95 percentile. In addition, biathletes perform only 5 shots at each firing line, so often one extra miss makes the value of the shooting accuracy abnormal from the point of view of statistics, but it can be an important predictor of the future parameters of his performances. Therefore it was decided not to discard abnormal values of shooting accuracy."
   ]
  },
  {
   "cell_type": "markdown",
   "metadata": {},
   "source": [
    "As we could see above the performance parameters of athletes are measured in different ranges. We can solve this problem by using data scaling tools. Let's perform min max normalization, which is bringing all parameters to a single range without changing the shape of the distribution."
   ]
  },
  {
   "cell_type": "code",
   "execution_count": 10,
   "metadata": {},
   "outputs": [],
   "source": [
    "from sklearn.preprocessing import MinMaxScaler"
   ]
  },
  {
   "cell_type": "code",
   "execution_count": 11,
   "metadata": {},
   "outputs": [],
   "source": [
    "# create a dataset \"InputForTS\" containing the results of the sprint races of the 2020-2021 season \n",
    "# remove the outliers and normalize the data\n",
    "InputForTS = pd.DataFrame()\n",
    "for table in AllSprintList[8:16]:\n",
    "    table = table.loc[table['speed'] > table['speed'].quantile(0.01)]\n",
    "    table = table.loc[table['totalShootingTime'] < table['totalShootingTime'].quantile(0.99)]\n",
    "    table[['speed', 'totalShootingTime']] = MinMaxScaler().fit_transform(table[\n",
    "                                                             ['speed', 'totalShootingTime']])\n",
    "    InputForTS = InputForTS.append(table)"
   ]
  },
  {
   "cell_type": "code",
   "execution_count": 12,
   "metadata": {},
   "outputs": [],
   "source": [
    "# we need the results of those biathletes who participated in the target race\n",
    "InputForTS = InputForTS.loc[InputForTS['ibuid'].isin(Sprint17['ibuid'])]"
   ]
  },
  {
   "cell_type": "code",
   "execution_count": 13,
   "metadata": {},
   "outputs": [],
   "source": [
    "# set index to a column containing race's dates\n",
    "InputForTS = InputForTS.set_index(InputForTS['Date'])\n",
    "InputForTS.index = pd.to_datetime(InputForTS.index)"
   ]
  },
  {
   "cell_type": "markdown",
   "metadata": {},
   "source": [
    "We should check the time series for stationarity. Stationarity means that the statistical properties of a process generating a time series do not change over time. Most time series models model and predict the statistical properties of a process in one way or another, so if the original series is not stationary the predictions may be incorrect.\n",
    "One way to test a time series stationarity is to apply the augmented Dickey-Fuller test. The null hypothesis of the test is that the time series can be represented by a unit root that is not stationary, and the alternative, thus, is that the time series is stationary. If p-value < 0.05 we reject the null hypothesis."
   ]
  },
  {
   "cell_type": "code",
   "execution_count": 14,
   "metadata": {},
   "outputs": [],
   "source": [
    "from statsmodels.tsa.stattools import adfuller\n",
    "import warnings\n",
    "warnings.filterwarnings('ignore')"
   ]
  },
  {
   "cell_type": "code",
   "execution_count": 15,
   "metadata": {},
   "outputs": [],
   "source": [
    "# a Dickey-Fuller test for each time series\n",
    "DFTest1 = pd.DataFrame()\n",
    "adf_results = pd.DataFrame()\n",
    "for ibuid in InputForTS['ibuid'].unique():\n",
    "    data = InputForTS[['ibuid', 'speed', 'pronePercent', \n",
    "                       'standingPercent', 'totalShootingTime']]\n",
    "    data = data.loc[data['ibuid'] == ibuid]\n",
    "    for col in data[['speed', 'pronePercent', \n",
    "                     'standingPercent', 'totalShootingTime']].columns.values:\n",
    "        try:\n",
    "            adf_results[col] = adfuller(data[col])\n",
    "        except:\n",
    "            continue\n",
    "        DFTest1 = DFTest1.append(pd.DataFrame({\n",
    "            'ibuid': [ibuid], \n",
    "             'par': [col], \n",
    "             'p-value': adf_results.loc[1][col],\n",
    "              'test': ['non-stationary' if (adf_results.loc[1][col] > 0.05) \n",
    "                      else 'stationary']\n",
    "         })).dropna()"
   ]
  },
  {
   "cell_type": "code",
   "execution_count": 16,
   "metadata": {},
   "outputs": [
    {
     "data": {
      "text/plain": [
       "non-stationary    203\n",
       "stationary        133\n",
       "Name: test, dtype: int64"
      ]
     },
     "execution_count": 16,
     "metadata": {},
     "output_type": "execute_result"
    }
   ],
   "source": [
    "DFTest1['test'].value_counts()"
   ]
  },
  {
   "cell_type": "markdown",
   "metadata": {},
   "source": [
    "The calculation showes that there are both stationary and non-stationary series in the dataset."
   ]
  },
  {
   "cell_type": "markdown",
   "metadata": {},
   "source": [
    "Let's check whether the time series first-order differences are stationary"
   ]
  },
  {
   "cell_type": "code",
   "execution_count": 17,
   "metadata": {},
   "outputs": [],
   "source": [
    "a = DFTest1[DFTest1['test'] == 'non-stationary']\n",
    "TSTransformed = pd.DataFrame()\n",
    "for ibuid in InputForTS['ibuid'].unique():\n",
    "    data = InputForTS[['ibuid', 'speed', 'pronePercent', \n",
    "                       'standingPercent', 'totalShootingTime']]\n",
    "    data = data.loc[data['ibuid'] == ibuid]\n",
    "    for col in data.columns.values:\n",
    "        if np.isin(col, a['par'][a['ibuid'] == ibuid]) == True:\n",
    "            data[col] = data[col] - data[col].shift(1)\n",
    "    TSTransformed = TSTransformed.append(data).dropna()"
   ]
  },
  {
   "cell_type": "code",
   "execution_count": 18,
   "metadata": {},
   "outputs": [],
   "source": [
    "DFTest2 = pd.DataFrame()\n",
    "\n",
    "for ibuid in TSTransformed['ibuid'].unique():\n",
    "    data = TSTransformed[['ibuid', 'speed', 'pronePercent', 'standingPercent', 'totalShootingTime']]\n",
    "    data = data.loc[data['ibuid'] == ibuid]\n",
    "    for col in data[['speed', 'pronePercent', 'standingPercent', 'totalShootingTime']].columns.values:\n",
    "        try:\n",
    "            adf_results[col] = adfuller(data[col])\n",
    "        except:\n",
    "            continue\n",
    "        DFTest2 = DFTest2.append(pd.DataFrame({\n",
    "            'ibuid': [ibuid], \n",
    "             'par': [col], \n",
    "             'p-value': adf_results.loc[1][col],\n",
    "              'test': ['non-stationary' if (adf_results.loc[1][col] > 0.05) \n",
    "                      else 'stationary']\n",
    "         })).dropna()"
   ]
  },
  {
   "cell_type": "code",
   "execution_count": 19,
   "metadata": {},
   "outputs": [
    {
     "data": {
      "text/plain": [
       "stationary        173\n",
       "non-stationary    138\n",
       "Name: test, dtype: int64"
      ]
     },
     "execution_count": 19,
     "metadata": {},
     "output_type": "execute_result"
    }
   ],
   "source": [
    "DFTest2['test'].value_counts()"
   ]
  },
  {
   "cell_type": "markdown",
   "metadata": {},
   "source": [
    "Most of the rows are stationary. If it is possible to obtain a stationary series from a non-stationary series by taking the  first-order differences, then it is called first-order integrated raw. Thus, we can conclude that most of the time series can be correctly described by time series models."
   ]
  },
  {
   "cell_type": "markdown",
   "metadata": {},
   "source": [
    "Since the races are not held at regular intervals, the time series are unevenly-spaced. This can negatively affect the accuracy of the forecast, since time series models require equal time intervals."
   ]
  },
  {
   "cell_type": "code",
   "execution_count": 20,
   "metadata": {},
   "outputs": [],
   "source": [
    "# a function sets the time index of the series of equal intervals and interpolates the missing values using the specified method\n",
    "# sprint races are held approximately once every 2 weeks during the season\n",
    "def resamplefunc(data, method):\n",
    "    resamle_index = pd.date_range(start=data.index[0], end=data.index[-1], freq=\"2W\")\n",
    "    return data.combine_first(pd.DataFrame(index=resamle_index, columns=data.columns)\n",
    "                            ).interpolate(method=method).resample(\"2W\").asfreq()"
   ]
  },
  {
   "cell_type": "code",
   "execution_count": 21,
   "metadata": {},
   "outputs": [],
   "source": [
    "# the 'Pad' method fills in the missing values with the previous values\n",
    "ResampledPad = pd.DataFrame()\n",
    "for ibuid in InputForTS['ibuid'].unique():\n",
    "    data = InputForTS[['ibuid', 'speed', \n",
    "    'pronePercent', 'standingPercent', \n",
    "                    'totalShootingTime']]\n",
    "    data = data.loc[data['ibuid'] == ibuid]\n",
    "    data = resamplefunc(data, 'pad')\n",
    "    ResampledPad = ResampledPad.append(\n",
    "                            data.dropna())"
   ]
  },
  {
   "cell_type": "code",
   "execution_count": 22,
   "metadata": {},
   "outputs": [],
   "source": [
    "DFTest3 = pd.DataFrame()\n",
    "\n",
    "for ibuid in ResampledPad['ibuid'].unique():\n",
    "    data = ResampledPad[['ibuid', 'speed', 'pronePercent', 'standingPercent', 'totalShootingTime']]\n",
    "    data = data.loc[data['ibuid'] == ibuid]\n",
    "    for col in data[['speed', 'pronePercent', 'standingPercent', 'totalShootingTime']].columns.values:\n",
    "        try:\n",
    "            adf_results[col] = adfuller(data[col])\n",
    "        except:\n",
    "            continue\n",
    "        DFTest3 = DFTest3.append(pd.DataFrame({\n",
    "            'ibuid': [ibuid], \n",
    "             'par': [col], \n",
    "             'p-value': adf_results.loc[1][col],\n",
    "              'test': ['non-stationary' if (adf_results.loc[1][col] > 0.05) \n",
    "                      else 'stationary']\n",
    "         })).dropna()"
   ]
  },
  {
   "cell_type": "code",
   "execution_count": 23,
   "metadata": {},
   "outputs": [],
   "source": [
    "c = DFTest3[DFTest3['test'] == 'non-stationary']"
   ]
  },
  {
   "cell_type": "code",
   "execution_count": 24,
   "metadata": {},
   "outputs": [],
   "source": [
    "# the 'Linear' method fills in the missing values with the intermediate values of the function \n",
    "# by drawing a straight line between them\n",
    "ResampledLinear = pd.DataFrame()\n",
    "for ibuid in InputForTS['ibuid'].unique():\n",
    "    data = InputForTS[['ibuid', 'speed', \n",
    "    'pronePercent', 'standingPercent', \n",
    "                    'totalShootingTime']]\n",
    "    data = data.loc[data['ibuid'] == ibuid]\n",
    "    data = resamplefunc(data, 'linear')\n",
    "    data['ibuid'].fillna(ibuid, inplace = True)\n",
    "    ResampledLinear = ResampledLinear.append(\n",
    "                                data.dropna())"
   ]
  },
  {
   "cell_type": "code",
   "execution_count": 25,
   "metadata": {},
   "outputs": [],
   "source": [
    "DFTest4 = pd.DataFrame()\n",
    "\n",
    "for ibuid in ResampledLinear['ibuid'].unique():\n",
    "    data = ResampledLinear[['ibuid', 'speed', 'pronePercent', 'standingPercent', 'totalShootingTime']]\n",
    "    data = data.loc[data['ibuid'] == ibuid]\n",
    "    for col in data[['speed', 'pronePercent', 'standingPercent', 'totalShootingTime']].columns.values:\n",
    "        try:\n",
    "            adf_results[col] = adfuller(data[col])\n",
    "        except:\n",
    "            continue\n",
    "        DFTest4 = DFTest4.append(pd.DataFrame({\n",
    "            'ibuid': [ibuid], \n",
    "             'par': [col], \n",
    "             'p-value': adf_results.loc[1][col],\n",
    "              'test': ['non-stationary' if (adf_results.loc[1][col] > 0.05) \n",
    "                      else 'stationary']\n",
    "         })).dropna()"
   ]
  },
  {
   "cell_type": "code",
   "execution_count": 26,
   "metadata": {},
   "outputs": [],
   "source": [
    "e = DFTest4[DFTest4['test'] == 'non-stationary']"
   ]
  },
  {
   "cell_type": "code",
   "execution_count": 27,
   "metadata": {},
   "outputs": [],
   "source": [
    "# the 'Nearest' method fills in the missing values with the nearest values\n",
    "ResampledNearest = pd.DataFrame()\n",
    "for ibuid in InputForTS['ibuid'].unique():\n",
    "    data = InputForTS[['ibuid', 'speed', \n",
    "    'pronePercent', 'standingPercent', \n",
    "                    'totalShootingTime']]\n",
    "    data = data.loc[data['ibuid'] == ibuid]\n",
    "    data = resamplefunc(data, 'nearest')\n",
    "    data['ibuid'].fillna(ibuid, inplace = True)\n",
    "    ResampledNearest = ResampledNearest.append(\n",
    "                                data.dropna())"
   ]
  },
  {
   "cell_type": "code",
   "execution_count": 28,
   "metadata": {},
   "outputs": [],
   "source": [
    "DFTest5 = pd.DataFrame()\n",
    "for ibuid in ResampledNearest['ibuid'].unique():\n",
    "    data = ResampledNearest[['ibuid', 'speed', 'pronePercent', 'standingPercent', 'totalShootingTime']]\n",
    "    data = data.loc[data['ibuid'] == ibuid]\n",
    "    for col in data[['speed', 'pronePercent', 'standingPercent', 'totalShootingTime']].columns.values:\n",
    "        try:\n",
    "            adf_results[col] = adfuller(data[col])\n",
    "        except:\n",
    "            continue\n",
    "        DFTest5 = DFTest5.append(pd.DataFrame({\n",
    "            'ibuid': [ibuid], \n",
    "             'par': [col], \n",
    "             'p-value': adf_results.loc[1][col],\n",
    "              'test': ['non-stationary' if (adf_results.loc[1][col] > 0.05) \n",
    "                      else 'stationary']\n",
    "         })).dropna()"
   ]
  },
  {
   "cell_type": "code",
   "execution_count": 29,
   "metadata": {},
   "outputs": [],
   "source": [
    "f = DFTest5[DFTest5['test'] == 'non-stationary']"
   ]
  },
  {
   "cell_type": "markdown",
   "metadata": {},
   "source": [
    "# Time series analysis"
   ]
  },
  {
   "cell_type": "markdown",
   "metadata": {},
   "source": [
    "In this part we will predict parameters of biathletes performance in the men's sprint, which took place on 13.03.2021."
   ]
  },
  {
   "cell_type": "markdown",
   "metadata": {},
   "source": [
    "The first model is the autoregression (AR) model.\n",
    "To stabilize the variance we will use the Box-Cox transform on non-stationary time series."
   ]
  },
  {
   "cell_type": "code",
   "execution_count": 30,
   "metadata": {},
   "outputs": [],
   "source": [
    "from statsmodels.tsa.ar_model import AutoReg\n",
    "from statsmodels.tsa.ar_model import ar_select_order\n",
    "from scipy.stats import boxcox\n",
    "from scipy.special import inv_boxcox1p"
   ]
  },
  {
   "cell_type": "code",
   "execution_count": 31,
   "metadata": {},
   "outputs": [],
   "source": [
    "# \"ARmodel\" function returns the forecast made by the \"AutoReg\" model\n",
    "# taking as input the time series and the order of the model\n",
    "def ARmodel(data, order):\n",
    "    model = AutoReg(data, order)\n",
    "    model._index = pd.to_datetime(data.index)\n",
    "    model_fit = model.fit()\n",
    "    ypred = model_fit.predict(len(data), len(data))\n",
    "    return ypred"
   ]
  },
  {
   "cell_type": "code",
   "execution_count": 32,
   "metadata": {},
   "outputs": [],
   "source": [
    "# obtain a set of predicted data for the dataset \"ResampledPad\" with automatic selection of the model order (where possible) \n",
    "# with the Box-Cox transformation of non-stationary time series\n",
    "# for those time series where the automatic selection of the parameter gives an invalid result\n",
    "# we assume p = 1, since  the partial autocorrelation function has an outlier at the lag of 1 for \n",
    "# most time series and there is no correlation for other delays.\n",
    "ARTransfBCResPad = pd.DataFrame()\n",
    "for ibuid in ResampledPad['ibuid'].unique():\n",
    "    data = ResampledPad[['ibuid', 'speed', \n",
    "    'pronePercent', 'standingPercent', 'totalShootingTime']]\n",
    "    data = data.loc[data['ibuid'] == ibuid]\n",
    "    try:\n",
    "        for col in data[['speed', 'pronePercent', \n",
    "    'standingPercent', 'totalShootingTime']].columns.values:\n",
    "            if np.isin(col, c['par'][c['ibuid'] == ibuid]) == True:\n",
    "                d = boxcox(data[col]+1, lmbda=None)\n",
    "                data[col] = d[0]\n",
    "                try:\n",
    "                    order = ar_select_order(data[col], 3)\n",
    "                    y = inv_boxcox1p(ARmodel(data[col], \n",
    "                                order=order.ar_lags[-1:])[0], d[1])\n",
    "                except:\n",
    "                    y = inv_boxcox1p(ARmodel(data[col], 1)[0], d[1])\n",
    "            else:\n",
    "                try:\n",
    "                    order = ar_select_order(data[col], 3)\n",
    "                    y = ARmodel(data[col], order=order.ar_lags[-1:])[0]\n",
    "                except:\n",
    "                    y = ARmodel(data[col], 1)[0]   \n",
    "            if col == 'speed':\n",
    "                sp = pd.DataFrame([y], columns = ['speed'])\n",
    "            elif col == 'pronePercent':\n",
    "                prP = pd.DataFrame([y], columns = ['pronePercent'])\n",
    "            elif col == 'standingPercent':\n",
    "                stP = pd.DataFrame([y], columns = ['standingPercent'])\n",
    "            else:\n",
    "                tsT = pd.DataFrame([y], columns = ['totalShootingTime'])\n",
    "            n = pd.DataFrame(data['ibuid'].unique(), columns = ['ibuid'])\n",
    "        ARTransfBCResPad = ARTransfBCResPad.append(pd.concat([\n",
    "                                n, sp, prP, stP, tsT], axis=1)).dropna()\n",
    "    except:\n",
    "        continue"
   ]
  },
  {
   "cell_type": "code",
   "execution_count": 33,
   "metadata": {},
   "outputs": [],
   "source": [
    "# obtain a set of predicted data for the dataset \"ResampledLinear\" with automatic selection of the model order (where possible) \n",
    "# with the Box-Cox transformation of non-stationary time series\n",
    "ARTransfBCResLin = pd.DataFrame()\n",
    "for ibuid in ResampledLinear['ibuid'].unique():\n",
    "    data = ResampledLinear[['ibuid', 'speed', 'pronePercent', 'standingPercent', 'totalShootingTime']]\n",
    "    data = data.loc[data['ibuid'] == ibuid]\n",
    "    try:\n",
    "        for col in data[['speed', 'pronePercent', 'standingPercent', 'totalShootingTime']].columns.values:\n",
    "            if np.isin(col, e['par'][e['ibuid'] == ibuid]) == True:\n",
    "                d = boxcox(data[col]+1, lmbda=None)\n",
    "                data[col] = d[0]\n",
    "                try:\n",
    "                    order = ar_select_order(data[col], 3)\n",
    "                    y = inv_boxcox1p(ARmodel(data[col], order=order.ar_lags[-1:])[0], d[1])\n",
    "                except:\n",
    "                    y = inv_boxcox1p(ARmodel(data[col], 1)[0], d[1])\n",
    "            else:\n",
    "                try:\n",
    "                    order = ar_select_order(data[col], 3)\n",
    "                    y = ARmodel(data[col], order=order.ar_lags[-1:])[0]\n",
    "                except:\n",
    "                    y = ARmodel(data[col], 1)[0]   \n",
    "            if col == 'speed':\n",
    "                sp = pd.DataFrame([y], columns = ['speed'])\n",
    "            elif col == 'pronePercent':\n",
    "                prP = pd.DataFrame([y], columns = ['pronePercent'])\n",
    "            elif col == 'standingPercent':\n",
    "                stP = pd.DataFrame([y], columns = ['standingPercent'])\n",
    "            else:\n",
    "                tsT = pd.DataFrame([y], columns = ['totalShootingTime'])\n",
    "            n = pd.DataFrame(data['ibuid'].unique(), columns = ['ibuid'])\n",
    "        ARTransfBCResLin = ARTransfBCResLin.append(pd.concat([n, sp, prP, stP, tsT], axis=1)).dropna()\n",
    "    except:\n",
    "        continue"
   ]
  },
  {
   "cell_type": "code",
   "execution_count": 34,
   "metadata": {},
   "outputs": [],
   "source": [
    "# obtain a set of predicted data for the dataset \"ResampledNearest\" with automatic selection of the model order (where possible) \n",
    "# with the Box-Cox transformation of non-stationary time series\n",
    "ARTransfBCResNear = pd.DataFrame()\n",
    "for ibuid in ResampledNearest['ibuid'].unique():\n",
    "    data = ResampledNearest[['ibuid', 'speed', 'pronePercent', 'standingPercent', 'totalShootingTime']]\n",
    "    data = data.loc[data['ibuid'] == ibuid]\n",
    "    try:\n",
    "        for col in data[['speed', 'pronePercent', 'standingPercent', 'totalShootingTime']].columns.values:\n",
    "            if np.isin(col, f['par'][f['ibuid'] == ibuid]) == True:\n",
    "                d = boxcox(data[col]+1, lmbda=None)\n",
    "                data[col] = d[0]\n",
    "                try:\n",
    "                    order = ar_select_order(data[col], 3)\n",
    "                    y = inv_boxcox1p(ARmodel(data[col], order=order.ar_lags[-1:])[0], d[1])\n",
    "                except:\n",
    "                    y = inv_boxcox1p(ARmodel(data[col], 1)[0], d[1])\n",
    "            else:\n",
    "                try:\n",
    "                    order = ar_select_order(data[col], 3)\n",
    "                    y = ARmodel(data[col], order=order.ar_lags[-1:])[0]\n",
    "                except:\n",
    "                    y = ARmodel(data[col], 1)[0]   \n",
    "            if col == 'speed':\n",
    "                sp = pd.DataFrame([y], columns = ['speed'])\n",
    "            elif col == 'pronePercent':\n",
    "                prP = pd.DataFrame([y], columns = ['pronePercent'])\n",
    "            elif col == 'standingPercent':\n",
    "                stP = pd.DataFrame([y], columns = ['standingPercent'])\n",
    "            else:\n",
    "                tsT = pd.DataFrame([y], columns = ['totalShootingTime'])\n",
    "            n = pd.DataFrame(data['ibuid'].unique(), columns = ['ibuid'])\n",
    "        ARTransfBCResNear = ARTransfBCResNear.append(pd.concat([n, sp, prP, stP, tsT], axis=1)).dropna()\n",
    "    except:\n",
    "        continue"
   ]
  },
  {
   "cell_type": "markdown",
   "metadata": {},
   "source": [
    "The second model is the autoregression — moving average (\"ARMA\") model."
   ]
  },
  {
   "cell_type": "code",
   "execution_count": 35,
   "metadata": {},
   "outputs": [],
   "source": [
    "from statsmodels.tsa.arima_model import ARMA\n",
    "from statsmodels.tsa.stattools import arma_order_select_ic"
   ]
  },
  {
   "cell_type": "code",
   "execution_count": 36,
   "metadata": {},
   "outputs": [],
   "source": [
    "# \"ARMAmodel\" function returns the forecast made by the \"ARMA\" model\n",
    "# taking as input the time series and the order of the model\n",
    "def ARMAmodel(data, order):\n",
    "    model = ARMA(data, order)\n",
    "    model._index = pd.to_datetime(data.index)\n",
    "    model_fit = model.fit()\n",
    "    ypred = model_fit.predict(len(data), len(data))\n",
    "    return ypred"
   ]
  },
  {
   "cell_type": "code",
   "execution_count": 37,
   "metadata": {},
   "outputs": [],
   "source": [
    "# obtain a set of predicted data for the dataset \"ResampledPad\" with automatic selection of the model order (where possible) \n",
    "# with the Box-Cox transformation of non-stationary time series\n",
    "ARMATransfBCResPad = pd.DataFrame()\n",
    "for ibuid in ResampledPad['ibuid'].unique():\n",
    "    data = ResampledPad[['ibuid', 'speed', 'pronePercent', 'standingPercent', 'totalShootingTime']]\n",
    "    data = data.loc[data['ibuid'] == ibuid]\n",
    "    try:\n",
    "        for col in data[['speed', 'pronePercent', 'standingPercent', 'totalShootingTime']].columns.values:\n",
    "            if np.isin(col, c['par'][c['ibuid'] == ibuid]) == True:\n",
    "                d = boxcox(data[col]+1, lmbda=None)\n",
    "                data[col] = d[0]\n",
    "                try:\n",
    "                    order = arma_order_select_ic(data[col], ic=['aic'], fit_kw=dict(method='css'))\n",
    "                    y = inv_boxcox1p(ARMAmodel(data[col], order=order.aic_min_order), d[1])\n",
    "                except:\n",
    "                    y = inv_boxcox1p(ARMAmodel(data[col], order=(1, 0)), d[1])\n",
    "            else:\n",
    "                try:\n",
    "                    order = arma_order_select_ic(data[col], ic=['aic'], fit_kw=dict(method='css'))\n",
    "                    y = ARMAmodel(data[col], order=order.aic_min_order)\n",
    "                except:\n",
    "                    y = ARMAmodel(data[col], order=(1, 0))  \n",
    "            if col == 'speed':\n",
    "                sp = pd.DataFrame(y, columns = ['speed'])\n",
    "                sp.reset_index(inplace = True, drop = True) \n",
    "            elif col == 'pronePercent':\n",
    "                prP = pd.DataFrame(y, columns = ['pronePercent'])\n",
    "                prP.reset_index(inplace = True, drop = True)\n",
    "            elif col == 'standingPercent':\n",
    "                stP = pd.DataFrame(y, columns = ['standingPercent'])\n",
    "                stP.reset_index(inplace = True, drop = True)\n",
    "            else:\n",
    "                tsT = pd.DataFrame(y, columns = ['totalShootingTime'])\n",
    "                tsT.reset_index(inplace = True, drop = True)\n",
    "            n = pd.DataFrame(data['ibuid'].unique(), columns = ['ibuid'])\n",
    "            n.reset_index(inplace = True, drop = True)\n",
    "        ARMATransfBCResPad = ARMATransfBCResPad.append(pd.concat([n, sp, prP, stP, tsT], axis=1))\n",
    "    except:\n",
    "        continue\n",
    "ARMATransfBCResPad = ARMATransfBCResPad.dropna()"
   ]
  },
  {
   "cell_type": "code",
   "execution_count": 38,
   "metadata": {},
   "outputs": [],
   "source": [
    "# obtain a set of predicted data for the dataset \"ResampledLinear\" with automatic selection of the model order (where possible) \n",
    "# with the Box-Cox transformation of non-stationary time series\n",
    "ARMATransfBCResLin = pd.DataFrame()\n",
    "for ibuid in ResampledLinear['ibuid'].unique():\n",
    "    data = ResampledLinear[['ibuid', 'speed', \n",
    "    'pronePercent', 'standingPercent', 'totalShootingTime']]\n",
    "    data = data.loc[data['ibuid'] == ibuid]\n",
    "    try:\n",
    "        for col in data[['speed', 'pronePercent', \n",
    "    'standingPercent', 'totalShootingTime']].columns.values:\n",
    "            if np.isin(col, e['par'][e['ibuid'] == ibuid]) == True:\n",
    "                d = boxcox(data[col]+1, lmbda=None)\n",
    "                data[col] = d[0]\n",
    "                try:\n",
    "                    order = arma_order_select_ic(data[col], \n",
    "                    ic=['aic'], fit_kw=dict(method='css'))\n",
    "                    y = inv_boxcox1p(ARMAmodel(data[col], \n",
    "                        order=order.aic_min_order), d[1])\n",
    "                except:\n",
    "                    y = inv_boxcox1p(ARMAmodel(data[col], \n",
    "                                    order=(1, 0)), d[1])\n",
    "            else:\n",
    "                try:\n",
    "                    order = arma_order_select_ic(data[col], ic=['aic'], \n",
    "                                            fit_kw=dict(method='css'))\n",
    "                    y = ARMAmodel(data[col], order=order.aic_min_order)\n",
    "                except:\n",
    "                    y = ARMAmodel(data[col], order=(1,0))  \n",
    "            if col == 'speed':\n",
    "                sp = pd.DataFrame(y, columns = ['speed'])\n",
    "                sp.reset_index(inplace = True, drop = True) \n",
    "            elif col == 'pronePercent':\n",
    "                prP = pd.DataFrame(y, columns = ['pronePercent'])\n",
    "                prP.reset_index(inplace = True, drop = True)\n",
    "            elif col == 'standingPercent':\n",
    "                stP = pd.DataFrame(y, columns = ['standingPercent'])\n",
    "                stP.reset_index(inplace = True, drop = True)\n",
    "            else:\n",
    "                tsT = pd.DataFrame(y, columns = ['totalShootingTime'])\n",
    "                tsT.reset_index(inplace = True, drop = True)\n",
    "            n = pd.DataFrame(data['ibuid'].unique(), columns = ['ibuid'])\n",
    "            n.reset_index(inplace = True, drop = True)\n",
    "        ARMATransfBCResLin = ARMATransfBCResLin.append(pd.concat([\n",
    "                                    n, sp, prP, stP, tsT], axis=1))\n",
    "    except:\n",
    "        continue\n",
    "ARMATransfBCResLin = ARMATransfBCResLin.dropna()"
   ]
  },
  {
   "cell_type": "code",
   "execution_count": 39,
   "metadata": {},
   "outputs": [],
   "source": [
    "# obtain a set of predicted data for the dataset \"ResampledNearest\" with automatic selection of the model order (where possible) \n",
    "# with the Box-Cox transformation of non-stationary time series\n",
    "ARMATransfBCResNear = pd.DataFrame()\n",
    "for ibuid in ResampledNearest['ibuid'].unique():\n",
    "    data = ResampledNearest[['ibuid', 'speed', 'pronePercent', 'standingPercent', 'totalShootingTime']]\n",
    "    data = data.loc[data['ibuid'] == ibuid]\n",
    "    try:\n",
    "        for col in data[['speed', 'pronePercent', 'standingPercent', 'totalShootingTime']].columns.values:\n",
    "            if np.isin(col, f['par'][f['ibuid'] == ibuid]) == True:\n",
    "                d = boxcox(data[col]+1, lmbda=None)\n",
    "                data[col] = d[0]\n",
    "                try:\n",
    "                    order = arma_order_select_ic(data[col], ic=['aic'], fit_kw=dict(method='css'))\n",
    "                    y = inv_boxcox1p(ARMAmodel(data[col], order=order.aic_min_order), d[1])\n",
    "                except:\n",
    "                    y = inv_boxcox1p(ARMAmodel(data[col], order=(1, 0)), d[1])\n",
    "            else:\n",
    "                try:\n",
    "                    order = arma_order_select_ic(data[col], ic=['aic'], fit_kw=dict(method='css'))\n",
    "                    y = ARMAmodel(data[col], order=order.aic_min_order)\n",
    "                except:\n",
    "                    y = ARMAmodel(data[col], order=(1, 0))  \n",
    "            if col == 'speed':\n",
    "                sp = pd.DataFrame(y, columns = ['speed'])\n",
    "                sp.reset_index(inplace = True, drop = True) \n",
    "            elif col == 'pronePercent':\n",
    "                prP = pd.DataFrame(y, columns = ['pronePercent'])\n",
    "                prP.reset_index(inplace = True, drop = True)\n",
    "            elif col == 'standingPercent':\n",
    "                stP = pd.DataFrame(y, columns = ['standingPercent'])\n",
    "                stP.reset_index(inplace = True, drop = True)\n",
    "            else:\n",
    "                tsT = pd.DataFrame(y, columns = ['totalShootingTime'])\n",
    "                tsT.reset_index(inplace = True, drop = True)\n",
    "            n = pd.DataFrame(data['ibuid'].unique(), columns = ['ibuid'])\n",
    "            n.reset_index(inplace = True, drop = True)\n",
    "        ARMATransfBCResNear = ARMATransfBCResNear.append(pd.concat([n, sp, prP, stP, tsT], axis=1))\n",
    "    except:\n",
    "        continue"
   ]
  },
  {
   "cell_type": "markdown",
   "metadata": {},
   "source": [
    "The third model is autoregressive integrated moving average (\"ARIMA\"). The \"ARIMA\" models are applied in cases where the time series is non-stationary but differences of any order are stationary. As shown above, a lot of the series in our dataset are first-order integrated series."
   ]
  },
  {
   "cell_type": "code",
   "execution_count": 40,
   "metadata": {},
   "outputs": [],
   "source": [
    "from pmdarima import auto_arima\n",
    "from statsmodels.tsa.arima.model import ARIMA"
   ]
  },
  {
   "cell_type": "code",
   "execution_count": 41,
   "metadata": {},
   "outputs": [],
   "source": [
    "# \"AuArmodel\" function returns the forecast made by the model\" auto_arima\"\n",
    "def AuArmodel(data):\n",
    "    model = auto_arima(data, error_action='ignore', suppress_warnings=True)\n",
    "    model_fit = model.fit(data)\n",
    "    ypred = model_fit.predict(n_periods=1)\n",
    "    return ypred\n",
    "\n",
    "# \"ARIMAmodel\" function returns the forecast made by the model\" ARIMA\" taking a time series and the order of the model as input \n",
    "# the differentiation parameter is 1, because a lot of the series in our dataset are first-order integrated series\n",
    "def ARIMAmodel(data, order=(1,1,1)):\n",
    "    model = ARIMA(data, order=order)\n",
    "    model_fit = model.fit()\n",
    "    ypred = model_fit.forecast()\n",
    "    return ypred"
   ]
  },
  {
   "cell_type": "code",
   "execution_count": 42,
   "metadata": {},
   "outputs": [],
   "source": [
    "# obtain a set of predicted data for the dataset \"ResampledPad\" with automatic selection of the model order (where possible) \n",
    "# with the Box-Cox transformation of non-stationary time series\n",
    "ARIMATransfBCResPad = pd.DataFrame()\n",
    "for ibuid in ResampledPad['ibuid'].unique():\n",
    "    data = ResampledPad[['ibuid', 'speed', 'pronePercent', 'standingPercent', 'totalShootingTime']]\n",
    "    data = data.loc[data['ibuid'] == ibuid]\n",
    "    try:\n",
    "        for col in data[['speed', 'pronePercent', 'standingPercent', 'totalShootingTime']].columns.values:\n",
    "            if np.isin(col, c['par'][c['ibuid'] == ibuid]) == True:\n",
    "                d = boxcox(data[col]+1, lmbda=None)\n",
    "                data[col] = d[0]\n",
    "                try:\n",
    "                    y = inv_boxcox1p(AuArmodel(data[col]), d[1])\n",
    "                except:\n",
    "                    y = inv_boxcox1p(ARIMAmodel(data[col]), d[1])\n",
    "            else:\n",
    "                try:\n",
    "                    y = AuArmodel(data[col])\n",
    "                except:\n",
    "                    y = ARIMAmodel(data[col])\n",
    "            if col == 'speed':\n",
    "                sp = pd.DataFrame(y, columns = ['speed'])\n",
    "                sp.reset_index(inplace = True, drop = True) \n",
    "            elif col == 'pronePercent':\n",
    "                prP = pd.DataFrame(y, columns = ['pronePercent'])\n",
    "                prP.reset_index(inplace = True, drop = True)\n",
    "            elif col == 'standingPercent':\n",
    "                stP = pd.DataFrame(y, columns = ['standingPercent'])\n",
    "                stP.reset_index(inplace = True, drop = True)\n",
    "            else:\n",
    "                tsT = pd.DataFrame(y, columns = ['totalShootingTime'])\n",
    "                tsT.reset_index(inplace = True, drop = True)\n",
    "            n = pd.DataFrame(data['ibuid'].unique(), columns = ['ibuid'])\n",
    "            n.reset_index(inplace = True, drop = True)\n",
    "        ARIMATransfBCResPad = ARIMATransfBCResPad.append(pd.concat([n, sp, prP, stP, tsT], axis=1))\n",
    "    except:\n",
    "        continue"
   ]
  },
  {
   "cell_type": "code",
   "execution_count": 43,
   "metadata": {},
   "outputs": [],
   "source": [
    "# obtain a set of predicted data for the dataset \"ResampledLinear\" with automatic selection of the model order (where possible) \n",
    "# with the Box-Cox transformation of non-stationary time series\n",
    "ARIMATransfBCResLin = pd.DataFrame()\n",
    "for ibuid in ResampledLinear['ibuid'].unique():\n",
    "    data = ResampledLinear[['ibuid', 'speed', 'pronePercent', 'standingPercent', 'totalShootingTime']]\n",
    "    data = data.loc[data['ibuid'] == ibuid]\n",
    "    try:\n",
    "        for col in data[['speed', 'pronePercent', 'standingPercent', 'totalShootingTime']].columns.values:\n",
    "            if np.isin(col, e['par'][e['ibuid'] == ibuid]) == True:\n",
    "                d = boxcox(data[col]+1, lmbda=None)\n",
    "                data[col] = d[0]\n",
    "                try:\n",
    "                    y = inv_boxcox1p(AuArmodel(data[col]), d[1])\n",
    "                except:\n",
    "                    y = inv_boxcox1p(ARIMAmodel(data[col]), d[1])\n",
    "            else:\n",
    "                try:\n",
    "                    y = AuArmodel(data[col])\n",
    "                except:\n",
    "                    y = ARIMAmodel(data[col])\n",
    "            if col == 'speed':\n",
    "                sp = pd.DataFrame(y, columns = ['speed'])\n",
    "                sp.reset_index(inplace = True, drop = True) \n",
    "            elif col == 'pronePercent':\n",
    "                prP = pd.DataFrame(y, columns = ['pronePercent'])\n",
    "                prP.reset_index(inplace = True, drop = True)\n",
    "            elif col == 'standingPercent':\n",
    "                stP = pd.DataFrame(y, columns = ['standingPercent'])\n",
    "                stP.reset_index(inplace = True, drop = True)\n",
    "            else:\n",
    "                tsT = pd.DataFrame(y, columns = ['totalShootingTime'])\n",
    "                tsT.reset_index(inplace = True, drop = True)\n",
    "            n = pd.DataFrame(data['ibuid'].unique(), columns = ['ibuid'])\n",
    "            n.reset_index(inplace = True, drop = True)\n",
    "        ARIMATransfBCResLin = ARIMATransfBCResLin.append(pd.concat([n, sp, prP, stP, tsT], axis=1))\n",
    "    except:\n",
    "        continue"
   ]
  },
  {
   "cell_type": "code",
   "execution_count": 44,
   "metadata": {},
   "outputs": [],
   "source": [
    "# obtain a set of predicted data for the dataset \"ResampledNearest\" with automatic selection of the model order (where possible) \n",
    "# with the Box-Cox transformation of non-stationary time series\n",
    "ARIMATransfBCResNear = pd.DataFrame()\n",
    "for ibuid in ResampledNearest['ibuid'].unique():\n",
    "    data = ResampledNearest[['ibuid', 'speed', \n",
    "        'pronePercent', 'standingPercent', 'totalShootingTime']]\n",
    "    data = data.loc[data['ibuid'] == ibuid]\n",
    "    try:\n",
    "        for col in data[['speed', 'pronePercent', \n",
    "        'standingPercent', 'totalShootingTime']].columns.values:\n",
    "            if np.isin(col, f['par'][f['ibuid'] == ibuid]) == True:\n",
    "                d = boxcox(data[col]+1, lmbda=None)\n",
    "                data[col] = d[0]\n",
    "                try:\n",
    "                    y = inv_boxcox1p(AuArmodel(data[col]), d[1])\n",
    "                except:\n",
    "                    y = inv_boxcox1p(ARIMAmodel(data[col]), d[1])\n",
    "            else:\n",
    "                try:\n",
    "                    y = AuArmodel(data[col])\n",
    "                except:\n",
    "                    y = ARIMAmodel(data[col])\n",
    "            if col == 'speed':\n",
    "                sp = pd.DataFrame(y, columns = ['speed'])\n",
    "                sp.reset_index(inplace = True, drop = True) \n",
    "            elif col == 'pronePercent':\n",
    "                prP = pd.DataFrame(y, columns = ['pronePercent'])\n",
    "                prP.reset_index(inplace = True, drop = True)\n",
    "            elif col == 'standingPercent':\n",
    "                stP = pd.DataFrame(y, columns = ['standingPercent'])\n",
    "                stP.reset_index(inplace = True, drop = True)\n",
    "            else:\n",
    "                tsT = pd.DataFrame(y, columns = ['totalShootingTime'])\n",
    "                tsT.reset_index(inplace = True, drop = True)\n",
    "            n = pd.DataFrame(data['ibuid'].unique(), columns = ['ibuid'])\n",
    "            n.reset_index(inplace = True, drop = True)\n",
    "        ARIMATransfBCResNear = ARIMATransfBCResNear.append(pd.concat([n, sp, prP, stP, tsT], axis=1))\n",
    "    except:\n",
    "        continue"
   ]
  },
  {
   "cell_type": "markdown",
   "metadata": {},
   "source": [
    "The fourth model is double exponential smoothing. Double exponential smoothing has a smoothing constant and a trend constant."
   ]
  },
  {
   "cell_type": "code",
   "execution_count": 45,
   "metadata": {},
   "outputs": [],
   "source": [
    "from statsmodels.tsa.holtwinters import ExponentialSmoothing"
   ]
  },
  {
   "cell_type": "code",
   "execution_count": 46,
   "metadata": {},
   "outputs": [],
   "source": [
    "# a smoothing constant is 0.3, which was selected experimentally\n",
    "def ExpSmmodel(data, smoothing_level = 0.3, trend='add'):\n",
    "    model = ExponentialSmoothing(data)\n",
    "    model._index = pd.to_datetime(data.index)\n",
    "    model_fit = model.fit(smoothing_level = smoothing_level)\n",
    "    ypred = model_fit.predict(len(data), len(data))\n",
    "    return ypred"
   ]
  },
  {
   "cell_type": "code",
   "execution_count": 47,
   "metadata": {},
   "outputs": [],
   "source": [
    "# obtain a set of predicted data for the dataset \"ResampledPad\" with automatic selection of the model order (where possible) \n",
    "# with the Box-Cox transformation of non-stationary time series\n",
    "ExpSmTransfBCResPad = pd.DataFrame()\n",
    "for ibuid in ResampledPad['ibuid'].unique():\n",
    "    data = ResampledPad[['ibuid', 'speed', 'pronePercent', 'standingPercent', 'totalShootingTime']]\n",
    "    data = data.loc[data['ibuid'] == ibuid]\n",
    "    try:\n",
    "        for col in data[['speed', 'pronePercent', 'standingPercent', 'totalShootingTime']].columns.values:\n",
    "            if np.isin(col, c['par'][c['ibuid'] == ibuid]) == True:\n",
    "                d = boxcox(data[col]+1, lmbda=None)\n",
    "                data[col] = d[0]\n",
    "                y = inv_boxcox1p(ExpSmmodel(data[col]), d[1])\n",
    "            else:\n",
    "                y = ExpSmmodel(data[col])  \n",
    "            if col == 'speed':\n",
    "                sp = pd.DataFrame(y, columns = ['speed'])\n",
    "                sp.reset_index(inplace = True, drop = True)   \n",
    "            elif col == 'pronePercent':\n",
    "                prP = pd.DataFrame(y, columns = ['pronePercent'])\n",
    "                prP.reset_index(inplace = True, drop = True)   \n",
    "            elif col == 'standingPercent':\n",
    "                stP = pd.DataFrame(y, columns = ['standingPercent'])\n",
    "                stP.reset_index(inplace = True, drop = True)   \n",
    "            else:\n",
    "                tsT = pd.DataFrame(y, columns = ['totalShootingTime'])\n",
    "                tsT.reset_index(inplace = True, drop = True)   \n",
    "            n = pd.DataFrame(data['ibuid'].unique(), columns = ['ibuid'])\n",
    "            n.reset_index(inplace = True, drop = True)\n",
    "        ExpSmTransfBCResPad = ExpSmTransfBCResPad.append(pd.concat([n, sp, prP, stP, tsT], axis=1))\n",
    "    except:\n",
    "        continue\n",
    "    with pd.option_context('mode.use_inf_as_na', True):\n",
    "        ExpSmTransfBCResPad = ExpSmTransfBCResPad.dropna()"
   ]
  },
  {
   "cell_type": "code",
   "execution_count": 48,
   "metadata": {},
   "outputs": [],
   "source": [
    "# obtain a set of predicted data for the dataset \"ResampledLinear\" with automatic selection of the model order (where possible) \n",
    "# with the Box-Cox transformation of non-stationary time series\n",
    "ExpSmTransfBCResLin = pd.DataFrame()\n",
    "for ibuid in ResampledLinear['ibuid'].unique():\n",
    "    data = ResampledLinear[['ibuid', 'speed', 'pronePercent', 'standingPercent', 'totalShootingTime']]\n",
    "    data = data.loc[data['ibuid'] == ibuid]\n",
    "    try:\n",
    "        for col in data[['speed', 'pronePercent', 'standingPercent', 'totalShootingTime']].columns.values:\n",
    "            if np.isin(col, e['par'][e['ibuid'] == ibuid]) == True:\n",
    "                d = boxcox(data[col]+1, lmbda=None)\n",
    "                data[col] = d[0]\n",
    "                y = inv_boxcox1p(ExpSmmodel(data[col]), d[1])\n",
    "            else:\n",
    "                y = ExpSmmodel(data[col])  \n",
    "            if col == 'speed':\n",
    "                sp = pd.DataFrame(y, columns = ['speed'])\n",
    "                sp.reset_index(inplace = True, drop = True)\n",
    "            elif col == 'pronePercent':\n",
    "                prP = pd.DataFrame(y, columns = ['pronePercent'])\n",
    "                prP.reset_index(inplace = True, drop = True)   \n",
    "            elif col == 'standingPercent':\n",
    "                stP = pd.DataFrame(y, columns = ['standingPercent'])\n",
    "                stP.reset_index(inplace = True, drop = True)   \n",
    "            else:\n",
    "                tsT = pd.DataFrame(y, columns = ['totalShootingTime'])\n",
    "                tsT.reset_index(inplace = True, drop = True)   \n",
    "            n = pd.DataFrame(data['ibuid'].unique(), columns = ['ibuid'])\n",
    "            n.reset_index(inplace = True, drop = True)\n",
    "        ExpSmTransfBCResLin = ExpSmTransfBCResLin.append(pd.concat([n, sp, prP, stP, tsT], axis=1)).dropna()\n",
    "    except:\n",
    "        continue"
   ]
  },
  {
   "cell_type": "code",
   "execution_count": 49,
   "metadata": {},
   "outputs": [],
   "source": [
    "# obtain a set of predicted data for the dataset \"ResampledNearest\" with automatic selection of the model order (where possible) \n",
    "# with the Box-Cox transformation of non-stationary time series\n",
    "ExpSmTransfBCResNear = pd.DataFrame()\n",
    "for ibuid in ResampledNearest['ibuid'].unique():\n",
    "    data = ResampledNearest[['ibuid', 'speed', \n",
    "    'pronePercent', 'standingPercent', 'totalShootingTime']]\n",
    "    data = data.loc[data['ibuid'] == ibuid]\n",
    "    try:\n",
    "        for col in data[['speed', 'pronePercent', \n",
    "        'standingPercent', 'totalShootingTime']].columns.values:\n",
    "            if np.isin(col, f['par'][f['ibuid'] == ibuid]) == True:\n",
    "                d = boxcox(data[col]+1, lmbda=None)\n",
    "                data[col] = d[0]\n",
    "                y = inv_boxcox1p(ExpSmmodel(data[col]), d[1])\n",
    "            else:\n",
    "                y = ExpSmmodel(data[col])  \n",
    "            if col == 'speed':\n",
    "                sp = pd.DataFrame(y, columns = ['speed'])\n",
    "                sp.reset_index(inplace = True, drop = True)   \n",
    "            elif col == 'pronePercent':\n",
    "                prP = pd.DataFrame(y, columns = ['pronePercent'])\n",
    "                prP.reset_index(inplace = True, drop = True)   \n",
    "            elif col == 'standingPercent':\n",
    "                stP = pd.DataFrame(y, columns = ['standingPercent'])\n",
    "                stP.reset_index(inplace = True, drop = True)   \n",
    "            else:\n",
    "                tsT = pd.DataFrame(y, columns = ['totalShootingTime'])\n",
    "                tsT.reset_index(inplace = True, drop = True)   \n",
    "            n = pd.DataFrame(data['ibuid'].unique(), columns = ['ibuid'])\n",
    "            n.reset_index(inplace = True, drop = True)\n",
    "        ExpSmTransfBCResNear = ExpSmTransfBCResNear.append(pd.concat([n, sp, prP, stP, tsT], axis=1))\n",
    "    except:\n",
    "        continue\n",
    "    with pd.option_context('mode.use_inf_as_na', True):\n",
    "        ExpSmTransfBCResNear = ExpSmTransfBCResNear.dropna()"
   ]
  },
  {
   "cell_type": "markdown",
   "metadata": {},
   "source": [
    "The fifth method is is the method proposed by the \"traces\" library. This library is designed for unevenly-spaced time series analysis, so the original dataset is used as the input to the model."
   ]
  },
  {
   "cell_type": "code",
   "execution_count": 50,
   "metadata": {},
   "outputs": [],
   "source": [
    "import traces"
   ]
  },
  {
   "cell_type": "code",
   "execution_count": 51,
   "metadata": {},
   "outputs": [],
   "source": [
    "def tracesanalyses(data, date=\"2021-03-13\"):\n",
    "    ts = traces.TimeSeries(data = data)\n",
    "    ypred = ts[pd.to_datetime(date)]\n",
    "    return ypred"
   ]
  },
  {
   "cell_type": "code",
   "execution_count": 52,
   "metadata": {},
   "outputs": [],
   "source": [
    "# obtain a set of predicted data for the dataset \"InputForTS\" with automatic selection of the model order (where possible) \n",
    "# with the Box-Cox transformation of non-stationary time series\n",
    "TracesTransfBC = pd.DataFrame()\n",
    "for ibuid in InputForTS['ibuid'].unique():\n",
    "    data = InputForTS[['ibuid', 'speed', 'pronePercent', \n",
    "            'standingPercent', 'totalShootingTime']]\n",
    "    data = data.loc[data['ibuid'] == ibuid]\n",
    "    try:\n",
    "        for col in data[['speed', 'pronePercent', \n",
    "        'standingPercent', 'totalShootingTime']].columns.values:\n",
    "            if np.isin(col, a['par'][a['ibuid'] == ibuid]) == True:\n",
    "                d = boxcox(data[col]+1, lmbda=None)\n",
    "                data[col] = d[0]\n",
    "                y = inv_boxcox1p(tracesanalyses(data[col]), d[1])\n",
    "            else:\n",
    "                y = tracesanalyses(data[col])  \n",
    "            if col == 'speed':\n",
    "                sp = pd.DataFrame([y], columns = ['speed'])\n",
    "            elif col == 'pronePercent':\n",
    "                prP = pd.DataFrame([y], columns = ['pronePercent'])\n",
    "            elif col == 'standingPercent':\n",
    "                stP = pd.DataFrame([y], columns = ['standingPercent'])\n",
    "            else:\n",
    "                tsT = pd.DataFrame([y], columns = ['totalShootingTime'])\n",
    "            n = pd.DataFrame(data['ibuid'].unique(), columns = ['ibuid'])\n",
    "        TracesTransfBC = TracesTransfBC.append(pd.concat([n, sp, prP, stP, tsT], axis=1))\n",
    "    except:\n",
    "        continue"
   ]
  },
  {
   "cell_type": "code",
   "execution_count": 53,
   "metadata": {},
   "outputs": [],
   "source": [
    "# combine forecasts in the \"tables\" list\n",
    "tables = [ARTransfBCResPad, ARTransfBCResLin, ARTransfBCResNear,\n",
    "          ARMATransfBCResPad, ARMATransfBCResLin, ARMATransfBCResNear,\n",
    "          ARIMATransfBCResPad, ARIMATransfBCResLin, ARIMATransfBCResNear,\n",
    "          ExpSmTransfBCResPad, ExpSmTransfBCResLin, ExpSmTransfBCResNear, \n",
    "          TracesTransfBC]"
   ]
  },
  {
   "cell_type": "code",
   "execution_count": 54,
   "metadata": {},
   "outputs": [],
   "source": [
    "# the \"mergeTarget\" function normalizes the target race parameters for an adequate assessment of the model results \n",
    "# and merge forecasts with the target race\n",
    "def mergeTarget(data):\n",
    "    Sprint17[['speed', 'totalShootingTime']] = MinMaxScaler().fit_transform(\n",
    "                                               Sprint17[['speed', 'totalShootingTime']])\n",
    "    data = pd.merge(Sprint17, data, how='inner', on='ibuid', sort=False)\n",
    "    return data"
   ]
  },
  {
   "cell_type": "code",
   "execution_count": 55,
   "metadata": {},
   "outputs": [],
   "source": [
    "from sklearn.metrics import mean_squared_error, mean_absolute_error"
   ]
  },
  {
   "cell_type": "code",
   "execution_count": 56,
   "metadata": {},
   "outputs": [],
   "source": [
    "# the \"RMSE\" function estimates the mean square error\n",
    "def RMSE(data):\n",
    "    return pd.DataFrame(\n",
    "        {'speed': [mean_squared_error(data['speed_x'], data['speed_y'], squared=False)],\n",
    "         'pronePercent': [mean_squared_error(data['pronePercent_x'], data['pronePercent_y'], squared=False)],\n",
    "         'standingPercent': [mean_squared_error(data['standingPercent_x'], data['standingPercent_y'], squared=False)],\n",
    "         'totalShootingTime': [mean_squared_error(data['totalShootingTime_x'], data['totalShootingTime_y'], squared=False)]\n",
    "        }\n",
    "                        )\n",
    "# the \"MAE\" function estimates the mean absolute error \n",
    "def MAE(data):\n",
    "    return pd.DataFrame(\n",
    "        {'speed': [mean_absolute_error(data['speed_x'], data['speed_y'])],\n",
    "         'pronePercent': [mean_absolute_error(data['pronePercent_x'], data['pronePercent_y'])],\n",
    "         'standingPercent': [mean_absolute_error(data['standingPercent_x'], data['standingPercent_y'])],\n",
    "         'totalShootingTime': [mean_absolute_error(data['totalShootingTime_x'], data['totalShootingTime_y'])]\n",
    "        }\n",
    "                        )"
   ]
  },
  {
   "cell_type": "code",
   "execution_count": 57,
   "metadata": {
    "scrolled": true
   },
   "outputs": [
    {
     "data": {
      "text/html": [
       "<div>\n",
       "<style scoped>\n",
       "    .dataframe tbody tr th:only-of-type {\n",
       "        vertical-align: middle;\n",
       "    }\n",
       "\n",
       "    .dataframe tbody tr th {\n",
       "        vertical-align: top;\n",
       "    }\n",
       "\n",
       "    .dataframe thead th {\n",
       "        text-align: right;\n",
       "    }\n",
       "</style>\n",
       "<table border=\"1\" class=\"dataframe\">\n",
       "  <thead>\n",
       "    <tr style=\"text-align: right;\">\n",
       "      <th></th>\n",
       "      <th>speed</th>\n",
       "      <th>pronePercent</th>\n",
       "      <th>standingPercent</th>\n",
       "      <th>totalShootingTime</th>\n",
       "    </tr>\n",
       "  </thead>\n",
       "  <tbody>\n",
       "    <tr>\n",
       "      <th>ARTransfBCResPad</th>\n",
       "      <td>0.140562</td>\n",
       "      <td>0.207744</td>\n",
       "      <td>0.265606</td>\n",
       "      <td>0.190544</td>\n",
       "    </tr>\n",
       "    <tr>\n",
       "      <th>ARTransfBCResLin</th>\n",
       "      <td>0.128436</td>\n",
       "      <td>0.181006</td>\n",
       "      <td>0.190814</td>\n",
       "      <td>0.159439</td>\n",
       "    </tr>\n",
       "    <tr>\n",
       "      <th>ARTransfBCResNear</th>\n",
       "      <td>0.133237</td>\n",
       "      <td>0.190476</td>\n",
       "      <td>0.240299</td>\n",
       "      <td>0.173890</td>\n",
       "    </tr>\n",
       "    <tr>\n",
       "      <th>ARMATransfBCResPad</th>\n",
       "      <td>0.162454</td>\n",
       "      <td>0.220586</td>\n",
       "      <td>0.217911</td>\n",
       "      <td>0.189951</td>\n",
       "    </tr>\n",
       "    <tr>\n",
       "      <th>ARMATransfBCResLin</th>\n",
       "      <td>0.139897</td>\n",
       "      <td>0.200764</td>\n",
       "      <td>0.182600</td>\n",
       "      <td>0.154194</td>\n",
       "    </tr>\n",
       "    <tr>\n",
       "      <th>ARMATransfBCResNear</th>\n",
       "      <td>0.144590</td>\n",
       "      <td>0.209923</td>\n",
       "      <td>0.213552</td>\n",
       "      <td>0.154362</td>\n",
       "    </tr>\n",
       "    <tr>\n",
       "      <th>ARIMATransfBCResPad</th>\n",
       "      <td>0.190669</td>\n",
       "      <td>0.342699</td>\n",
       "      <td>0.301528</td>\n",
       "      <td>0.203967</td>\n",
       "    </tr>\n",
       "    <tr>\n",
       "      <th>ARIMATransfBCResLin</th>\n",
       "      <td>0.170660</td>\n",
       "      <td>0.234977</td>\n",
       "      <td>0.208026</td>\n",
       "      <td>0.170184</td>\n",
       "    </tr>\n",
       "    <tr>\n",
       "      <th>ARIMATransfBCResNear</th>\n",
       "      <td>0.162067</td>\n",
       "      <td>0.282942</td>\n",
       "      <td>0.246845</td>\n",
       "      <td>0.171920</td>\n",
       "    </tr>\n",
       "    <tr>\n",
       "      <th>ExpSmTransfBCResPad</th>\n",
       "      <td>0.153891</td>\n",
       "      <td>0.199450</td>\n",
       "      <td>0.178204</td>\n",
       "      <td>0.164581</td>\n",
       "    </tr>\n",
       "    <tr>\n",
       "      <th>ExpSmTransfBCResLin</th>\n",
       "      <td>0.137616</td>\n",
       "      <td>0.189722</td>\n",
       "      <td>0.166571</td>\n",
       "      <td>0.148051</td>\n",
       "    </tr>\n",
       "    <tr>\n",
       "      <th>ExpSmTransfBCResNear</th>\n",
       "      <td>0.136038</td>\n",
       "      <td>0.199627</td>\n",
       "      <td>0.172387</td>\n",
       "      <td>0.155925</td>\n",
       "    </tr>\n",
       "    <tr>\n",
       "      <th>TracesTransfBC</th>\n",
       "      <td>0.149102</td>\n",
       "      <td>0.232932</td>\n",
       "      <td>0.211548</td>\n",
       "      <td>0.188328</td>\n",
       "    </tr>\n",
       "  </tbody>\n",
       "</table>\n",
       "</div>"
      ],
      "text/plain": [
       "                         speed  pronePercent  standingPercent  \\\n",
       "ARTransfBCResPad      0.140562      0.207744         0.265606   \n",
       "ARTransfBCResLin      0.128436      0.181006         0.190814   \n",
       "ARTransfBCResNear     0.133237      0.190476         0.240299   \n",
       "ARMATransfBCResPad    0.162454      0.220586         0.217911   \n",
       "ARMATransfBCResLin    0.139897      0.200764         0.182600   \n",
       "ARMATransfBCResNear   0.144590      0.209923         0.213552   \n",
       "ARIMATransfBCResPad   0.190669      0.342699         0.301528   \n",
       "ARIMATransfBCResLin   0.170660      0.234977         0.208026   \n",
       "ARIMATransfBCResNear  0.162067      0.282942         0.246845   \n",
       "ExpSmTransfBCResPad   0.153891      0.199450         0.178204   \n",
       "ExpSmTransfBCResLin   0.137616      0.189722         0.166571   \n",
       "ExpSmTransfBCResNear  0.136038      0.199627         0.172387   \n",
       "TracesTransfBC        0.149102      0.232932         0.211548   \n",
       "\n",
       "                      totalShootingTime  \n",
       "ARTransfBCResPad               0.190544  \n",
       "ARTransfBCResLin               0.159439  \n",
       "ARTransfBCResNear              0.173890  \n",
       "ARMATransfBCResPad             0.189951  \n",
       "ARMATransfBCResLin             0.154194  \n",
       "ARMATransfBCResNear            0.154362  \n",
       "ARIMATransfBCResPad            0.203967  \n",
       "ARIMATransfBCResLin            0.170184  \n",
       "ARIMATransfBCResNear           0.171920  \n",
       "ExpSmTransfBCResPad            0.164581  \n",
       "ExpSmTransfBCResLin            0.148051  \n",
       "ExpSmTransfBCResNear           0.155925  \n",
       "TracesTransfBC                 0.188328  "
      ]
     },
     "execution_count": 57,
     "metadata": {},
     "output_type": "execute_result"
    }
   ],
   "source": [
    "# the \"AllRMSE\" table contains the mean square error for each parameter of each table\n",
    "AllRMSE = pd.DataFrame()\n",
    "for table in tables:\n",
    "    table= mergeTarget(table)\n",
    "    AllRMSE = AllRMSE.append(RMSE(table))\n",
    "AllRMSE.index = ['ARTransfBCResPad', 'ARTransfBCResLin', 'ARTransfBCResNear',\n",
    "                 'ARMATransfBCResPad', 'ARMATransfBCResLin', 'ARMATransfBCResNear',\n",
    "                 'ARIMATransfBCResPad', 'ARIMATransfBCResLin', 'ARIMATransfBCResNear', \n",
    "                 'ExpSmTransfBCResPad', 'ExpSmTransfBCResLin', 'ExpSmTransfBCResNear',\n",
    "                 'TracesTransfBC']    \n",
    "AllRMSE"
   ]
  },
  {
   "cell_type": "code",
   "execution_count": 58,
   "metadata": {},
   "outputs": [
    {
     "data": {
      "text/html": [
       "<div>\n",
       "<style scoped>\n",
       "    .dataframe tbody tr th:only-of-type {\n",
       "        vertical-align: middle;\n",
       "    }\n",
       "\n",
       "    .dataframe tbody tr th {\n",
       "        vertical-align: top;\n",
       "    }\n",
       "\n",
       "    .dataframe thead th {\n",
       "        text-align: right;\n",
       "    }\n",
       "</style>\n",
       "<table border=\"1\" class=\"dataframe\">\n",
       "  <thead>\n",
       "    <tr style=\"text-align: right;\">\n",
       "      <th></th>\n",
       "      <th>speed</th>\n",
       "      <th>pronePercent</th>\n",
       "      <th>standingPercent</th>\n",
       "      <th>totalShootingTime</th>\n",
       "    </tr>\n",
       "  </thead>\n",
       "  <tbody>\n",
       "    <tr>\n",
       "      <th>ARTransfBCResPad</th>\n",
       "      <td>0.108554</td>\n",
       "      <td>0.156303</td>\n",
       "      <td>0.185005</td>\n",
       "      <td>0.143550</td>\n",
       "    </tr>\n",
       "    <tr>\n",
       "      <th>ARTransfBCResLin</th>\n",
       "      <td>0.105545</td>\n",
       "      <td>0.136762</td>\n",
       "      <td>0.153324</td>\n",
       "      <td>0.116693</td>\n",
       "    </tr>\n",
       "    <tr>\n",
       "      <th>ARTransfBCResNear</th>\n",
       "      <td>0.105305</td>\n",
       "      <td>0.146359</td>\n",
       "      <td>0.179160</td>\n",
       "      <td>0.137059</td>\n",
       "    </tr>\n",
       "    <tr>\n",
       "      <th>ARMATransfBCResPad</th>\n",
       "      <td>0.123225</td>\n",
       "      <td>0.164602</td>\n",
       "      <td>0.165204</td>\n",
       "      <td>0.144127</td>\n",
       "    </tr>\n",
       "    <tr>\n",
       "      <th>ARMATransfBCResLin</th>\n",
       "      <td>0.115550</td>\n",
       "      <td>0.159377</td>\n",
       "      <td>0.150882</td>\n",
       "      <td>0.116461</td>\n",
       "    </tr>\n",
       "    <tr>\n",
       "      <th>ARMATransfBCResNear</th>\n",
       "      <td>0.114733</td>\n",
       "      <td>0.165612</td>\n",
       "      <td>0.167137</td>\n",
       "      <td>0.118654</td>\n",
       "    </tr>\n",
       "    <tr>\n",
       "      <th>ARIMATransfBCResPad</th>\n",
       "      <td>0.135533</td>\n",
       "      <td>0.225255</td>\n",
       "      <td>0.212213</td>\n",
       "      <td>0.144399</td>\n",
       "    </tr>\n",
       "    <tr>\n",
       "      <th>ARIMATransfBCResLin</th>\n",
       "      <td>0.127420</td>\n",
       "      <td>0.168412</td>\n",
       "      <td>0.157104</td>\n",
       "      <td>0.121203</td>\n",
       "    </tr>\n",
       "    <tr>\n",
       "      <th>ARIMATransfBCResNear</th>\n",
       "      <td>0.120810</td>\n",
       "      <td>0.195515</td>\n",
       "      <td>0.176393</td>\n",
       "      <td>0.123645</td>\n",
       "    </tr>\n",
       "    <tr>\n",
       "      <th>ExpSmTransfBCResPad</th>\n",
       "      <td>0.110530</td>\n",
       "      <td>0.148066</td>\n",
       "      <td>0.138062</td>\n",
       "      <td>0.122064</td>\n",
       "    </tr>\n",
       "    <tr>\n",
       "      <th>ExpSmTransfBCResLin</th>\n",
       "      <td>0.109818</td>\n",
       "      <td>0.150645</td>\n",
       "      <td>0.137707</td>\n",
       "      <td>0.112134</td>\n",
       "    </tr>\n",
       "    <tr>\n",
       "      <th>ExpSmTransfBCResNear</th>\n",
       "      <td>0.107135</td>\n",
       "      <td>0.157350</td>\n",
       "      <td>0.140158</td>\n",
       "      <td>0.117969</td>\n",
       "    </tr>\n",
       "    <tr>\n",
       "      <th>TracesTransfBC</th>\n",
       "      <td>0.127300</td>\n",
       "      <td>0.168317</td>\n",
       "      <td>0.168317</td>\n",
       "      <td>0.139172</td>\n",
       "    </tr>\n",
       "  </tbody>\n",
       "</table>\n",
       "</div>"
      ],
      "text/plain": [
       "                         speed  pronePercent  standingPercent  \\\n",
       "ARTransfBCResPad      0.108554      0.156303         0.185005   \n",
       "ARTransfBCResLin      0.105545      0.136762         0.153324   \n",
       "ARTransfBCResNear     0.105305      0.146359         0.179160   \n",
       "ARMATransfBCResPad    0.123225      0.164602         0.165204   \n",
       "ARMATransfBCResLin    0.115550      0.159377         0.150882   \n",
       "ARMATransfBCResNear   0.114733      0.165612         0.167137   \n",
       "ARIMATransfBCResPad   0.135533      0.225255         0.212213   \n",
       "ARIMATransfBCResLin   0.127420      0.168412         0.157104   \n",
       "ARIMATransfBCResNear  0.120810      0.195515         0.176393   \n",
       "ExpSmTransfBCResPad   0.110530      0.148066         0.138062   \n",
       "ExpSmTransfBCResLin   0.109818      0.150645         0.137707   \n",
       "ExpSmTransfBCResNear  0.107135      0.157350         0.140158   \n",
       "TracesTransfBC        0.127300      0.168317         0.168317   \n",
       "\n",
       "                      totalShootingTime  \n",
       "ARTransfBCResPad               0.143550  \n",
       "ARTransfBCResLin               0.116693  \n",
       "ARTransfBCResNear              0.137059  \n",
       "ARMATransfBCResPad             0.144127  \n",
       "ARMATransfBCResLin             0.116461  \n",
       "ARMATransfBCResNear            0.118654  \n",
       "ARIMATransfBCResPad            0.144399  \n",
       "ARIMATransfBCResLin            0.121203  \n",
       "ARIMATransfBCResNear           0.123645  \n",
       "ExpSmTransfBCResPad            0.122064  \n",
       "ExpSmTransfBCResLin            0.112134  \n",
       "ExpSmTransfBCResNear           0.117969  \n",
       "TracesTransfBC                 0.139172  "
      ]
     },
     "execution_count": 58,
     "metadata": {},
     "output_type": "execute_result"
    }
   ],
   "source": [
    "# the \"AllMAE\" table contains the mean absolute error for each parameter of each table\n",
    "AllMAE = pd.DataFrame()\n",
    "for table in tables:\n",
    "    table = mergeTarget(table)\n",
    "    AllMAE = AllMAE.append(MAE(table))\n",
    "    \n",
    "AllMAE.index = ['ARTransfBCResPad', 'ARTransfBCResLin', 'ARTransfBCResNear',\n",
    "                 'ARMATransfBCResPad', 'ARMATransfBCResLin', 'ARMATransfBCResNear',\n",
    "                 'ARIMATransfBCResPad', 'ARIMATransfBCResLin', 'ARIMATransfBCResNear', \n",
    "                 'ExpSmTransfBCResPad', 'ExpSmTransfBCResLin', 'ExpSmTransfBCResNear',\n",
    "                 'TracesTransfBC']\n",
    "AllMAE"
   ]
  },
  {
   "cell_type": "markdown",
   "metadata": {},
   "source": [
    "The speed was most accurately predicted by autoregression and exponential smoothing models, the shooting accuracy in prone position - by autoregression models, the shooting accuracy in standing position and the shooting speed – by exponential smoothing models."
   ]
  },
  {
   "cell_type": "markdown",
   "metadata": {},
   "source": [
    "# Сlassification problem"
   ]
  },
  {
   "cell_type": "markdown",
   "metadata": {},
   "source": [
    "In the second part of the study we examined the possibility of predicting the distribution of the ranks of biathletes based on the parameters of their performance in the race. We will create a dataset containing data on the performances of athletes for the seasons 2019-2020, 2020-2021, train various models, and make forecast for the datasets that were obtained in the previous part of the study."
   ]
  },
  {
   "cell_type": "markdown",
   "metadata": {},
   "source": [
    "A dataset \"InputForPred\" contains the results of sprint races for the seasons 2019-2020, 2020-2021. The outliers were removed, data was normalized and standardized. Standardization is useful for some of the machine learning algorithms that will be used in this part of the study."
   ]
  },
  {
   "cell_type": "code",
   "execution_count": 59,
   "metadata": {},
   "outputs": [],
   "source": [
    "from sklearn.preprocessing import StandardScaler"
   ]
  },
  {
   "cell_type": "code",
   "execution_count": 60,
   "metadata": {},
   "outputs": [],
   "source": [
    "InputForPred = pd.DataFrame()\n",
    "for table in AllSprintList[:16]:\n",
    "    table = table.loc[table['totalShootingTime'] < table['totalShootingTime'].quantile(0.99)]\n",
    "    table = table.loc[table['speed'] > table['speed'].quantile(0.01)]\n",
    "    table[['speed', 'totalShootingTime']] = MinMaxScaler().fit_transform(table[\n",
    "        ['speed', 'totalShootingTime']])\n",
    "    table[['speed', 'pronePercent', 'standingPercent', 'totalShootingTime']] = StandardScaler().fit_transform(table[\n",
    "        ['speed', 'pronePercent', 'standingPercent', 'totalShootingTime']])\n",
    "    InputForPred = InputForPred.append(table)"
   ]
  },
  {
   "cell_type": "markdown",
   "metadata": {},
   "source": [
    "Let's plot each of the parameters of the biathlete performance versus his final place"
   ]
  },
  {
   "cell_type": "code",
   "execution_count": 61,
   "metadata": {},
   "outputs": [
    {
     "data": {
      "text/plain": [
       "<seaborn.axisgrid.JointGrid at 0x1d31b823fa0>"
      ]
     },
     "execution_count": 61,
     "metadata": {},
     "output_type": "execute_result"
    },
    {
     "data": {
      "image/png": "[encoded data removed]",
      "text/plain": [
       "<Figure size 432x432 with 3 Axes>"
      ]
     },
     "metadata": {
      "needs_background": "light"
     },
     "output_type": "display_data"
    },
    {
     "data": {
      "image/png": "[encoded data removed]",
      "text/plain": [
       "<Figure size 432x432 with 3 Axes>"
      ]
     },
     "metadata": {
      "needs_background": "light"
     },
     "output_type": "display_data"
    },
    {
     "data": {
      "image/png": "[encoded data removed]",
      "text/plain": [
       "<Figure size 432x432 with 3 Axes>"
      ]
     },
     "metadata": {
      "needs_background": "light"
     },
     "output_type": "display_data"
    },
    {
     "data": {
      "image/png": "[encoded data removed]",
      "text/plain": [
       "<Figure size 432x432 with 3 Axes>"
      ]
     },
     "metadata": {
      "needs_background": "light"
     },
     "output_type": "display_data"
    }
   ],
   "source": [
    "sns.jointplot(x='speed', y='Rank', data=InputForPred, kind='scatter')\n",
    "sns.jointplot(x='pronePercent', y='Rank', data=InputForPred, kind='scatter')\n",
    "sns.jointplot(x='standingPercent', y='Rank', data=InputForPred, kind='scatter')\n",
    "sns.jointplot(x='totalShootingTime', y='Rank', data=InputForPred, kind='scatter')"
   ]
  },
  {
   "cell_type": "markdown",
   "metadata": {},
   "source": [
    "There is a strong correlation between speed and the final place: on average, the higher speed, the higher the final place of the biathlete.\n",
    "There is also a correlation between shooting accuracy and the final place, but it is not so strong.\n",
    "Speaking about shooting time, the correlation is the weakest."
   ]
  },
  {
   "cell_type": "markdown",
   "metadata": {},
   "source": [
    "It is necessary to find out how the parameters of the performance correlate with each other. To this end, we will construct a heatmap."
   ]
  },
  {
   "cell_type": "code",
   "execution_count": 62,
   "metadata": {},
   "outputs": [
    {
     "data": {
      "text/plain": [
       "<AxesSubplot:>"
      ]
     },
     "execution_count": 62,
     "metadata": {},
     "output_type": "execute_result"
    },
    {
     "data": {
      "image/png": "[encoded data removed]",
      "text/plain": [
       "<Figure size 432x288 with 2 Axes>"
      ]
     },
     "metadata": {
      "needs_background": "light"
     },
     "output_type": "display_data"
    }
   ],
   "source": [
    "sns.heatmap(data=InputForPred[['speed', 'pronePercent', 'standingPercent', 'totalShootingTime']].corr(), annot = True)"
   ]
  },
  {
   "cell_type": "markdown",
   "metadata": {},
   "source": [
    "The graph shows that parameters correlate slightly."
   ]
  },
  {
   "cell_type": "markdown",
   "metadata": {},
   "source": [
    "We should divide the final places of biathletes into the categories. There are two boundaries that may be of interest for potential investors who are planning to advertise on athletes' equipment: the first 8 places and the first 60 places. The biathletes who took places from the first to the eighth will participate in the awarding ceremony (\"flower ceremony\"), which will be broadcast on TV. The biathletes who took the first 60 places are very likely to be shown during the TV broadcast and will also participate in the next race (pursuit)."
   ]
  },
  {
   "cell_type": "code",
   "execution_count": 63,
   "metadata": {},
   "outputs": [],
   "source": [
    "InputForPred['Rank'] = pd.cut(InputForPred['Rank'], [0, 8, 60, 113]).cat.codes"
   ]
  },
  {
   "cell_type": "code",
   "execution_count": 64,
   "metadata": {},
   "outputs": [],
   "source": [
    "# prepare a dataset \"TargetSprint\" which contains the parameters of the performance and the final results in the target race \n",
    "# the data was normalixed and standardized and the categories were assigned\n",
    "TargetSprint = pd.DataFrame(Sprint17)\n",
    "TargetSprint = TargetSprint.loc[TargetSprint['totalShootingTime'] < TargetSprint['totalShootingTime'].quantile(0.99)]\n",
    "TargetSprint = TargetSprint.loc[TargetSprint['speed'] > TargetSprint['speed'].quantile(0.01)]\n",
    "TargetSprint[['speed', 'totalShootingTime']] = MinMaxScaler().fit_transform(\n",
    "                                               TargetSprint[['speed', 'totalShootingTime']])\n",
    "TargetSprint[['speed', 'pronePercent', 'standingPercent', 'totalShootingTime']] = StandardScaler().fit_transform(\n",
    "                                    TargetSprint[[ 'speed', 'pronePercent', 'standingPercent', 'totalShootingTime']])\n",
    "\n",
    "TargetSprint['Rank'] = pd.cut(TargetSprint['Rank'], [0, 8, 60, 113]).cat.codes"
   ]
  },
  {
   "cell_type": "code",
   "execution_count": 65,
   "metadata": {},
   "outputs": [],
   "source": [
    "# \"prepare\" function takes the forecast made in the previous part of the study as input\n",
    "# standardizes the data and return dataset combined with the actual results of the target race\n",
    "def prepare(data):\n",
    "    data[['speed', 'pronePercent', 'standingPercent', 'totalShootingTime']] = StandardScaler().fit_transform(\n",
    "                                    data[[ 'speed', 'pronePercent', 'standingPercent', 'totalShootingTime']])\n",
    "    data = pd.merge(TargetSprint, data, how='inner', on=\"ibuid\", sort=False)\n",
    "    data = data.rename(columns = {'speed_y': 'speed', 'pronePercent_y': 'pronePercent', \n",
    "                                  'standingPercent_y': 'standingPercent', 'totalShootingTime_y': 'totalShootingTime'})\n",
    "    return data"
   ]
  },
  {
   "cell_type": "code",
   "execution_count": 66,
   "metadata": {},
   "outputs": [],
   "source": [
    "# apply 'prepare' function to the forecasts obtained in the previous part of the study\n",
    "ARTransfBCResPad = prepare(ARTransfBCResPad)\n",
    "ARTransfBCResLin = prepare(ARTransfBCResLin)\n",
    "ARTransfBCResNear = prepare(ARTransfBCResNear)\n",
    "ARMATransfBCResPad = prepare(ARMATransfBCResPad)\n",
    "ARMATransfBCResLin = prepare(ARMATransfBCResLin)\n",
    "ARMATransfBCResNear = prepare(ARMATransfBCResNear)\n",
    "ARIMATransfBCResPad = prepare(ARIMATransfBCResPad)\n",
    "ARIMATransfBCResLin = prepare(ARIMATransfBCResLin)\n",
    "ARIMATransfBCResNear = prepare(ARIMATransfBCResNear)\n",
    "ExpSmTransfBCResPad = prepare(ExpSmTransfBCResPad)\n",
    "ExpSmTransfBCResLin = prepare(ExpSmTransfBCResLin)\n",
    "ExpSmTransfBCResNear = prepare(ExpSmTransfBCResNear)\n",
    "TracesTransfBC = prepare(TracesTransfBC)"
   ]
  },
  {
   "cell_type": "code",
   "execution_count": 67,
   "metadata": {},
   "outputs": [],
   "source": [
    "from sklearn.model_selection import train_test_split"
   ]
  },
  {
   "cell_type": "code",
   "execution_count": 68,
   "metadata": {},
   "outputs": [],
   "source": [
    "# split \"InputForPred\" into train and test parts\n",
    "X = InputForPred[InputForPred.columns[5:9]]\n",
    "y = InputForPred['Rank']\n",
    "X_train, X_test, y_train, y_test = train_test_split(X, y, test_size=0.33, random_state=42)\n",
    "\n",
    "# define the columns containing the performance parameters as input\n",
    "# define the column containing the results as target\n",
    "TargetTest = TargetSprint[TargetSprint.columns[5:9]]\n",
    "TargetPred = TargetSprint['Rank']"
   ]
  },
  {
   "cell_type": "markdown",
   "metadata": {},
   "source": [
    "The purpose of this part of study is the process of predicting the class of given data points based on their characteristics. To solve the classification problem we will use decision trees and neural nets."
   ]
  },
  {
   "cell_type": "code",
   "execution_count": 69,
   "metadata": {},
   "outputs": [],
   "source": [
    "from sklearn.metrics import classification_report"
   ]
  },
  {
   "cell_type": "code",
   "execution_count": 70,
   "metadata": {},
   "outputs": [],
   "source": [
    "from sklearn.model_selection import GridSearchCV"
   ]
  },
  {
   "cell_type": "markdown",
   "metadata": {},
   "source": [
    "The first algorithm to be used is a decision tree."
   ]
  },
  {
   "cell_type": "code",
   "execution_count": 71,
   "metadata": {},
   "outputs": [],
   "source": [
    "from sklearn.tree import DecisionTreeClassifier"
   ]
  },
  {
   "cell_type": "code",
   "execution_count": 72,
   "metadata": {},
   "outputs": [
    {
     "data": {
      "text/plain": [
       "{'criterion': 'gini', 'min_samples_leaf': 2, 'min_samples_split': 3}"
      ]
     },
     "execution_count": 72,
     "metadata": {},
     "output_type": "execute_result"
    }
   ],
   "source": [
    "# select the optimal parameters of the model using \"GridSearchCV\"\n",
    "params = {'criterion': ['entropy', 'gini'], \n",
    "          'min_samples_leaf': range (1, 11),\n",
    "          'min_samples_split': range (2, 11)}\n",
    "grid = GridSearchCV(DecisionTreeClassifier(), params, \n",
    "                             scoring='f1_weighted')\n",
    "grid.fit(X_train, y_train)\n",
    "grid.best_params_"
   ]
  },
  {
   "cell_type": "code",
   "execution_count": 73,
   "metadata": {},
   "outputs": [
    {
     "name": "stdout",
     "output_type": "stream",
     "text": [
      "              precision    recall  f1-score   support\n",
      "\n",
      "         1-8       0.83      0.81      0.82        36\n",
      "        9-60       0.91      0.88      0.89       279\n",
      "         61+       0.88      0.92      0.90       220\n",
      "\n",
      "    accuracy                           0.89       535\n",
      "   macro avg       0.87      0.87      0.87       535\n",
      "weighted avg       0.89      0.89      0.89       535\n",
      "\n"
     ]
    }
   ],
   "source": [
    "# train the model on training data, test it on a test data and obtain estimates\n",
    "dtc = DecisionTreeClassifier(criterion='gini', min_samples_leaf=2, min_samples_split=3)\n",
    "dtc.fit(X_train, y_train)\n",
    "y_pred = dtc.predict(X_test)\n",
    "print(classification_report(y_pred, y_test, \n",
    "    target_names = ['1-8', '9-60', '61+']))"
   ]
  },
  {
   "cell_type": "markdown",
   "metadata": {},
   "source": [
    "The \"accuracy\" metric is not informative since our classes have a different number of objects in them. The \"precision\" and \"recall\" metrics are more applicable in conditions of unbalanced samples. In our example the most informative metric is \"f1-score\", since it combines \"precision\" and \"recall\"."
   ]
  },
  {
   "cell_type": "code",
   "execution_count": 74,
   "metadata": {},
   "outputs": [
    {
     "name": "stdout",
     "output_type": "stream",
     "text": [
      "              precision    recall  f1-score   support\n",
      "\n",
      "         1-8       1.00      0.67      0.80        12\n",
      "        9-60       0.81      0.98      0.88        43\n",
      "         61+       0.97      0.86      0.92        44\n",
      "\n",
      "    accuracy                           0.89        99\n",
      "   macro avg       0.93      0.84      0.87        99\n",
      "weighted avg       0.91      0.89      0.89        99\n",
      "\n"
     ]
    }
   ],
   "source": [
    "# test algorithm for target race\n",
    "TargetDTCPred = dtc.predict(TargetTest)\n",
    "print(classification_report(TargetDTCPred, \n",
    "TargetPred, target_names = ['1-8', '9-60', '61+']))"
   ]
  },
  {
   "cell_type": "markdown",
   "metadata": {},
   "source": [
    "Next algorithm is Extra Trees Classifier"
   ]
  },
  {
   "cell_type": "code",
   "execution_count": 75,
   "metadata": {},
   "outputs": [],
   "source": [
    "from sklearn.ensemble import ExtraTreesClassifier"
   ]
  },
  {
   "cell_type": "code",
   "execution_count": 76,
   "metadata": {},
   "outputs": [
    {
     "data": {
      "text/plain": [
       "{'criterion': 'gini', 'min_samples_leaf': 2, 'min_samples_split': 9}"
      ]
     },
     "execution_count": 76,
     "metadata": {},
     "output_type": "execute_result"
    }
   ],
   "source": [
    "# select the optimal parameters of the model using \"GridSearchCV\"\n",
    "params = {'criterion': ['entropy', 'gini'], \n",
    "          'min_samples_leaf': range (1, 11),\n",
    "          'min_samples_split': range (2, 11)}\n",
    "grid = GridSearchCV(ExtraTreesClassifier(), params, \n",
    "                            scoring='f1_weighted')\n",
    "grid.fit(X_train, y_train)\n",
    "grid.best_params_"
   ]
  },
  {
   "cell_type": "code",
   "execution_count": 77,
   "metadata": {},
   "outputs": [
    {
     "name": "stdout",
     "output_type": "stream",
     "text": [
      "              precision    recall  f1-score   support\n",
      "\n",
      "         1-8       0.83      0.91      0.87        32\n",
      "        9-60       0.93      0.94      0.94       268\n",
      "         61+       0.96      0.93      0.94       235\n",
      "\n",
      "    accuracy                           0.93       535\n",
      "   macro avg       0.90      0.93      0.91       535\n",
      "weighted avg       0.94      0.93      0.93       535\n",
      "\n"
     ]
    }
   ],
   "source": [
    "# train the model on training data, test it on a test data and obtain estimates\n",
    "etc = ExtraTreesClassifier(criterion='gini', min_samples_leaf=2, min_samples_split=9)\n",
    "etc.fit(X_train, y_train)\n",
    "y_pred = etc.predict(X_test)\n",
    "print(classification_report(y_pred, y_test, \n",
    "    target_names = ['1-8', '9-60', '61+']))"
   ]
  },
  {
   "cell_type": "code",
   "execution_count": 78,
   "metadata": {},
   "outputs": [
    {
     "name": "stdout",
     "output_type": "stream",
     "text": [
      "              precision    recall  f1-score   support\n",
      "\n",
      "         1-8       1.00      0.89      0.94         9\n",
      "        9-60       0.94      1.00      0.97        49\n",
      "         61+       1.00      0.95      0.97        41\n",
      "\n",
      "    accuracy                           0.97        99\n",
      "   macro avg       0.98      0.95      0.96        99\n",
      "weighted avg       0.97      0.97      0.97        99\n",
      "\n"
     ]
    }
   ],
   "source": [
    "# test algorithm for target race\n",
    "TargetETCPred = etc.predict(TargetTest)\n",
    "print(classification_report(TargetETCPred, \n",
    "TargetPred, target_names = ['1-8', '9-60', '61+']))"
   ]
  },
  {
   "cell_type": "markdown",
   "metadata": {},
   "source": [
    "Next algorithm is Random Forest"
   ]
  },
  {
   "cell_type": "code",
   "execution_count": 79,
   "metadata": {},
   "outputs": [],
   "source": [
    "from sklearn.ensemble import RandomForestClassifier"
   ]
  },
  {
   "cell_type": "code",
   "execution_count": 80,
   "metadata": {},
   "outputs": [
    {
     "data": {
      "text/plain": [
       "{'max_depth': 9,\n",
       " 'min_samples_leaf': 2,\n",
       " 'min_samples_split': 4,\n",
       " 'n_estimators': 20}"
      ]
     },
     "execution_count": 80,
     "metadata": {},
     "output_type": "execute_result"
    }
   ],
   "source": [
    "# select the optimal parameters of the model using \"GridSearchCV\"\n",
    "params = {'n_estimators': range (10, 51, 10),\n",
    "          'max_depth': range (1, 11, 2),\n",
    "          'min_samples_leaf': range (1, 5),\n",
    "          'min_samples_split': range (2, 5, 1)}\n",
    "grid = GridSearchCV(RandomForestClassifier(), params, scoring='f1_weighted')\n",
    "grid.fit(X_train, y_train)\n",
    "grid.best_params_"
   ]
  },
  {
   "cell_type": "code",
   "execution_count": 81,
   "metadata": {},
   "outputs": [
    {
     "name": "stdout",
     "output_type": "stream",
     "text": [
      "              precision    recall  f1-score   support\n",
      "\n",
      "         1-8       0.83      0.81      0.82        36\n",
      "        9-60       0.89      0.93      0.91       260\n",
      "         61+       0.94      0.90      0.92       239\n",
      "\n",
      "    accuracy                           0.91       535\n",
      "   macro avg       0.89      0.88      0.88       535\n",
      "weighted avg       0.91      0.91      0.91       535\n",
      "\n"
     ]
    }
   ],
   "source": [
    "# train the model on training data, test it on a test data and obtain estimates\n",
    "rf = RandomForestClassifier(max_depth=9, min_samples_leaf=2, min_samples_split=4, n_estimators=20)\n",
    "rf.fit(X_train, y_train)\n",
    "y_pred = rf.predict(X_test)\n",
    "print(classification_report(y_pred, y_test, target_names = ['1-8', '9-60', '61+']))"
   ]
  },
  {
   "cell_type": "code",
   "execution_count": 82,
   "metadata": {},
   "outputs": [
    {
     "name": "stdout",
     "output_type": "stream",
     "text": [
      "              precision    recall  f1-score   support\n",
      "\n",
      "         1-8       1.00      1.00      1.00         8\n",
      "        9-60       0.87      1.00      0.93        45\n",
      "         61+       1.00      0.85      0.92        46\n",
      "\n",
      "    accuracy                           0.93        99\n",
      "   macro avg       0.96      0.95      0.95        99\n",
      "weighted avg       0.94      0.93      0.93        99\n",
      "\n"
     ]
    }
   ],
   "source": [
    "# test algorithm for target race\n",
    "TargetRFPred = rf.predict(TargetTest)\n",
    "print(classification_report(TargetRFPred, TargetPred, target_names = ['1-8', '9-60', '61+']))"
   ]
  },
  {
   "cell_type": "markdown",
   "metadata": {},
   "source": [
    "Next algorithm is XGBoost"
   ]
  },
  {
   "cell_type": "code",
   "execution_count": 83,
   "metadata": {},
   "outputs": [],
   "source": [
    "import xgboost"
   ]
  },
  {
   "cell_type": "code",
   "execution_count": 84,
   "metadata": {},
   "outputs": [
    {
     "data": {
      "text/plain": [
       "{'colsample_bytree': 0.6, 'max_depth': 3, 'min_child_weight': 1}"
      ]
     },
     "execution_count": 84,
     "metadata": {},
     "output_type": "execute_result"
    }
   ],
   "source": [
    "# select the optimal parameters of the model using \"GridSearchCV\"\n",
    "params = {  'max_depth': [3, 5, 7],\n",
    "            'min_child_weight': [1, 3, 5],\n",
    "            'colsample_bytree': [0.6, 0.8, 1]\n",
    "            }\n",
    "grid = GridSearchCV(xgboost.XGBClassifier(eval_metric='mlogloss'), \n",
    "                    params, scoring='f1_weighted')\n",
    "grid.fit(X_train, y_train)\n",
    "grid.best_params_"
   ]
  },
  {
   "cell_type": "code",
   "execution_count": 85,
   "metadata": {},
   "outputs": [
    {
     "name": "stdout",
     "output_type": "stream",
     "text": [
      "              precision    recall  f1-score   support\n",
      "\n",
      "         1-8       0.89      0.82      0.85        38\n",
      "        9-60       0.90      0.92      0.91       263\n",
      "         61+       0.93      0.91      0.92       234\n",
      "\n",
      "    accuracy                           0.91       535\n",
      "   macro avg       0.90      0.88      0.89       535\n",
      "weighted avg       0.91      0.91      0.91       535\n",
      "\n"
     ]
    }
   ],
   "source": [
    "# train the model on training data, test it on a test data and obtain estimates\n",
    "xgb = xgboost.XGBClassifier(colsample_bytree=0.6, max_depth=3, min_child_weight=1, eval_metric='mlogloss')\n",
    "xgb.fit(X_train, y_train)\n",
    "y_pred = xgb.predict(X_test)\n",
    "print(classification_report(y_pred, y_test, target_names = ['1-8', '9-60', '61+']))"
   ]
  },
  {
   "cell_type": "code",
   "execution_count": 86,
   "metadata": {},
   "outputs": [
    {
     "name": "stdout",
     "output_type": "stream",
     "text": [
      "              precision    recall  f1-score   support\n",
      "\n",
      "         1-8       1.00      0.80      0.89        10\n",
      "        9-60       0.87      1.00      0.93        45\n",
      "         61+       1.00      0.89      0.94        44\n",
      "\n",
      "    accuracy                           0.93        99\n",
      "   macro avg       0.96      0.90      0.92        99\n",
      "weighted avg       0.94      0.93      0.93        99\n",
      "\n"
     ]
    }
   ],
   "source": [
    "# test algorithm for target race\n",
    "TargetXGBPred = xgb.predict(TargetTest)\n",
    "print(classification_report(TargetXGBPred, TargetPred, target_names = ['1-8', '9-60', '61+']))"
   ]
  },
  {
   "cell_type": "markdown",
   "metadata": {},
   "source": [
    "Next algorithm is Multilayered perceptron"
   ]
  },
  {
   "cell_type": "code",
   "execution_count": 87,
   "metadata": {},
   "outputs": [],
   "source": [
    "from sklearn.neural_network import MLPClassifier"
   ]
  },
  {
   "cell_type": "code",
   "execution_count": 88,
   "metadata": {},
   "outputs": [
    {
     "data": {
      "text/plain": [
       "{'alpha': 0.5, 'learning_rate': 'adaptive', 'max_iter': 100}"
      ]
     },
     "execution_count": 88,
     "metadata": {},
     "output_type": "execute_result"
    }
   ],
   "source": [
    "# select the optimal parameters of the model using \"GridSearchCV\"\n",
    "params = {'max_iter': [25, 50, 100],\n",
    "          'alpha': [0.001, 0.5],\n",
    "          'learning_rate': ['constant', 'adaptive']}\n",
    "grid = GridSearchCV(MLPClassifier(), params, scoring='f1_weighted')\n",
    "grid.fit(X_train, y_train)\n",
    "grid.best_params_"
   ]
  },
  {
   "cell_type": "code",
   "execution_count": 89,
   "metadata": {},
   "outputs": [
    {
     "name": "stdout",
     "output_type": "stream",
     "text": [
      "              precision    recall  f1-score   support\n",
      "\n",
      "         1-8       0.89      0.94      0.91        33\n",
      "        9-60       0.95      0.97      0.96       267\n",
      "         61+       0.98      0.95      0.97       235\n",
      "\n",
      "    accuracy                           0.96       535\n",
      "   macro avg       0.94      0.95      0.95       535\n",
      "weighted avg       0.96      0.96      0.96       535\n",
      "\n"
     ]
    }
   ],
   "source": [
    "# train the model on training data, test it on a test data and obtain estimates\n",
    "clf = MLPClassifier(max_iter=100, alpha=0.5, learning_rate='adaptive').fit(X_train, y_train)\n",
    "y_pred = clf.predict(X_test)\n",
    "print(classification_report(y_pred, y_test, target_names = ['1-8', '9-60', '61+']))"
   ]
  },
  {
   "cell_type": "code",
   "execution_count": 90,
   "metadata": {},
   "outputs": [
    {
     "name": "stdout",
     "output_type": "stream",
     "text": [
      "              precision    recall  f1-score   support\n",
      "\n",
      "         1-8       1.00      1.00      1.00         8\n",
      "        9-60       0.94      1.00      0.97        49\n",
      "         61+       1.00      0.93      0.96        42\n",
      "\n",
      "    accuracy                           0.97        99\n",
      "   macro avg       0.98      0.98      0.98        99\n",
      "weighted avg       0.97      0.97      0.97        99\n",
      "\n"
     ]
    }
   ],
   "source": [
    "# test algorithm for target race\n",
    "TargetCLFPred = clf.predict(TargetTest)\n",
    "print(classification_report(TargetCLFPred, TargetPred, target_names = ['1-8', '9-60', '61+']))"
   ]
  },
  {
   "cell_type": "markdown",
   "metadata": {},
   "source": [
    "Next algorithm is Neural net with 3 hidden layers"
   ]
  },
  {
   "cell_type": "code",
   "execution_count": 91,
   "metadata": {},
   "outputs": [],
   "source": [
    "from keras.models import Sequential\n",
    "from keras.layers import Dense \n",
    "from keras.wrappers.scikit_learn import KerasClassifier"
   ]
  },
  {
   "cell_type": "code",
   "execution_count": 92,
   "metadata": {},
   "outputs": [
    {
     "data": {
      "text/plain": [
       "{'batch_size': 1, 'epochs': 10}"
      ]
     },
     "execution_count": 92,
     "metadata": {},
     "output_type": "execute_result"
    }
   ],
   "source": [
    "# select the optimal parameters of the model using \"GridSearchCV\"\n",
    "def create_model():\n",
    "    model = Sequential()\n",
    "    model.add(Dense(128, activation = 'relu'))\n",
    "    model.add(Dense(12, activation = 'relu'))\n",
    "    model.add(Dense(4, activation = 'softmax'))\n",
    "    model.compile(optimizer='adam', \n",
    "    loss='sparse_categorical_crossentropy', \n",
    "    metrics=['sparse_categorical_accuracy'])\n",
    "    return model\n",
    "\n",
    "NN = KerasClassifier(build_fn=create_model, verbose=0)\n",
    "params = {'batch_size':[1, 2, 4], 'epochs':[5, 10, 25]}\n",
    "grid = GridSearchCV(NN, params, scoring='f1_weighted')\n",
    "grid.fit(X_train, y_train)\n",
    "grid.best_params_"
   ]
  },
  {
   "cell_type": "code",
   "execution_count": 93,
   "metadata": {},
   "outputs": [
    {
     "name": "stdout",
     "output_type": "stream",
     "text": [
      "Epoch 1/10\n",
      "1084/1084 [==============================] - 2s 1ms/step - loss: 0.6710 - sparse_categorical_accuracy: 0.7979\n",
      "Epoch 2/10\n",
      "1084/1084 [==============================] - 1s 1ms/step - loss: 0.1787 - sparse_categorical_accuracy: 0.9325\n",
      "Epoch 3/10\n",
      "1084/1084 [==============================] - 1s 1ms/step - loss: 0.1659 - sparse_categorical_accuracy: 0.9212\n",
      "Epoch 4/10\n",
      "1084/1084 [==============================] - 1s 1ms/step - loss: 0.1619 - sparse_categorical_accuracy: 0.9275\n",
      "Epoch 5/10\n",
      "1084/1084 [==============================] - 1s 1ms/step - loss: 0.1310 - sparse_categorical_accuracy: 0.9420\n",
      "Epoch 6/10\n",
      "1084/1084 [==============================] - 1s 1ms/step - loss: 0.1274 - sparse_categorical_accuracy: 0.9528\n",
      "Epoch 7/10\n",
      "1084/1084 [==============================] - 1s 1ms/step - loss: 0.1294 - sparse_categorical_accuracy: 0.9515\n",
      "Epoch 8/10\n",
      "1084/1084 [==============================] - 1s 1ms/step - loss: 0.1144 - sparse_categorical_accuracy: 0.9572\n",
      "Epoch 9/10\n",
      "1084/1084 [==============================] - 1s 1ms/step - loss: 0.1187 - sparse_categorical_accuracy: 0.9470\n",
      "Epoch 10/10\n",
      "1084/1084 [==============================] - 1s 1ms/step - loss: 0.1114 - sparse_categorical_accuracy: 0.9511\n",
      "              precision    recall  f1-score   support\n",
      "\n",
      "         1-8       0.89      0.89      0.89        35\n",
      "        9-60       0.93      0.94      0.94       269\n",
      "         61+       0.95      0.94      0.94       231\n",
      "\n",
      "    accuracy                           0.94       535\n",
      "   macro avg       0.92      0.92      0.92       535\n",
      "weighted avg       0.94      0.94      0.94       535\n",
      "\n"
     ]
    }
   ],
   "source": [
    "# train the model on training data, test it on a test data and obtain estimates\n",
    "NN = Sequential()\n",
    "NN.add(Dense(128, activation = 'relu'))\n",
    "NN.add(Dense(12, activation = 'relu'))\n",
    "NN.add(Dense(4, activation = 'softmax'))\n",
    "NN.compile(optimizer='adam', loss='sparse_categorical_crossentropy', metrics=['sparse_categorical_accuracy'])\n",
    "NN.fit(X_train, y_train, epochs = 10, batch_size=1)\n",
    "y_pred = np.argmax(NN.predict(X_test), axis=1)\n",
    "print(classification_report(y_pred, y_test, target_names = ['1-8', '9-60', '61+']))"
   ]
  },
  {
   "cell_type": "code",
   "execution_count": 94,
   "metadata": {},
   "outputs": [
    {
     "name": "stdout",
     "output_type": "stream",
     "text": [
      "              precision    recall  f1-score   support\n",
      "\n",
      "         1-8       1.00      1.00      1.00         8\n",
      "        9-60       0.94      1.00      0.97        49\n",
      "         61+       1.00      0.93      0.96        42\n",
      "\n",
      "    accuracy                           0.97        99\n",
      "   macro avg       0.98      0.98      0.98        99\n",
      "weighted avg       0.97      0.97      0.97        99\n",
      "\n"
     ]
    }
   ],
   "source": [
    "# test algorithm for target race\n",
    "TargetNNPred = np.argmax(NN.predict(TargetTest), axis=1)\n",
    "print(classification_report(TargetNNPred, TargetPred, target_names = ['1-8', '9-60', '61+']))"
   ]
  },
  {
   "cell_type": "code",
   "execution_count": 95,
   "metadata": {},
   "outputs": [],
   "source": [
    "# the \"modeltest\" function returns the \"classification_report\" metric for the model \n",
    "# and the dataset that was given as input\n",
    "def modeltest(data, model):\n",
    "    if model == NN:\n",
    "        y_pred = np.argmax(model.predict(data[data.columns[10:14]]), axis=1)\n",
    "        print(classification_report(y_pred, data['Rank'], target_names = ['1-8', '9-60', '61+']))\n",
    "    else:\n",
    "        y_pred = model.predict(data[data.columns[10:14]])\n",
    "        print(classification_report(y_pred, data['Rank'], target_names = ['1-8', '9-60', '61+']))"
   ]
  },
  {
   "cell_type": "code",
   "execution_count": 96,
   "metadata": {},
   "outputs": [
    {
     "name": "stdout",
     "output_type": "stream",
     "text": [
      "              precision    recall  f1-score   support\n",
      "\n",
      "         1-8       0.62      0.71      0.67         7\n",
      "        9-60       0.77      0.67      0.72        49\n",
      "         61+       0.61      0.71      0.66        28\n",
      "\n",
      "    accuracy                           0.69        84\n",
      "   macro avg       0.67      0.70      0.68        84\n",
      "weighted avg       0.70      0.69      0.69        84\n",
      "\n",
      "              precision    recall  f1-score   support\n",
      "\n",
      "         1-8       0.88      0.78      0.82         9\n",
      "        9-60       0.83      0.78      0.80        45\n",
      "         61+       0.73      0.83      0.77        29\n",
      "\n",
      "    accuracy                           0.80        83\n",
      "   macro avg       0.81      0.79      0.80        83\n",
      "weighted avg       0.80      0.80      0.80        83\n",
      "\n",
      "              precision    recall  f1-score   support\n",
      "\n",
      "         1-8       0.50      0.57      0.53         7\n",
      "        9-60       0.63      0.66      0.64        41\n",
      "         61+       0.67      0.61      0.63        33\n",
      "\n",
      "    accuracy                           0.63        81\n",
      "   macro avg       0.60      0.61      0.60        81\n",
      "weighted avg       0.63      0.63      0.63        81\n",
      "\n",
      "              precision    recall  f1-score   support\n",
      "\n",
      "         1-8       0.62      0.50      0.56        10\n",
      "        9-60       0.58      0.62      0.60        42\n",
      "         61+       0.61      0.59      0.60        34\n",
      "\n",
      "    accuracy                           0.59        86\n",
      "   macro avg       0.60      0.57      0.58        86\n",
      "weighted avg       0.59      0.59      0.59        86\n",
      "\n",
      "              precision    recall  f1-score   support\n",
      "\n",
      "         1-8       0.62      0.56      0.59         9\n",
      "        9-60       0.68      0.71      0.70        45\n",
      "         61+       0.68      0.66      0.67        32\n",
      "\n",
      "    accuracy                           0.67        86\n",
      "   macro avg       0.66      0.64      0.65        86\n",
      "weighted avg       0.67      0.67      0.67        86\n",
      "\n",
      "              precision    recall  f1-score   support\n",
      "\n",
      "         1-8       0.25      0.25      0.25         8\n",
      "        9-60       0.63      0.63      0.63        46\n",
      "         61+       0.68      0.68      0.68        34\n",
      "\n",
      "    accuracy                           0.61        88\n",
      "   macro avg       0.52      0.52      0.52        88\n",
      "weighted avg       0.61      0.61      0.61        88\n",
      "\n",
      "              precision    recall  f1-score   support\n",
      "\n",
      "         1-8       0.50      0.57      0.53         7\n",
      "        9-60       0.76      0.66      0.70        56\n",
      "         61+       0.58      0.70      0.64        30\n",
      "\n",
      "    accuracy                           0.67        93\n",
      "   macro avg       0.61      0.64      0.62        93\n",
      "weighted avg       0.68      0.67      0.67        93\n",
      "\n",
      "              precision    recall  f1-score   support\n",
      "\n",
      "         1-8       0.75      0.67      0.71         9\n",
      "        9-60       0.72      0.72      0.72        47\n",
      "         61+       0.69      0.71      0.70        34\n",
      "\n",
      "    accuracy                           0.71        90\n",
      "   macro avg       0.72      0.70      0.71        90\n",
      "weighted avg       0.71      0.71      0.71        90\n",
      "\n",
      "              precision    recall  f1-score   support\n",
      "\n",
      "         1-8       0.50      0.50      0.50         8\n",
      "        9-60       0.72      0.65      0.69        52\n",
      "         61+       0.60      0.70      0.65        30\n",
      "\n",
      "    accuracy                           0.66        90\n",
      "   macro avg       0.61      0.62      0.61        90\n",
      "weighted avg       0.66      0.66      0.66        90\n",
      "\n",
      "              precision    recall  f1-score   support\n",
      "\n",
      "         1-8       0.57      0.50      0.53         8\n",
      "        9-60       0.65      0.67      0.66        45\n",
      "         61+       0.65      0.65      0.65        34\n",
      "\n",
      "    accuracy                           0.64        87\n",
      "   macro avg       0.62      0.60      0.61        87\n",
      "weighted avg       0.64      0.64      0.64        87\n",
      "\n",
      "              precision    recall  f1-score   support\n",
      "\n",
      "         1-8       0.57      0.57      0.57         7\n",
      "        9-60       0.69      0.70      0.69        47\n",
      "         61+       0.68      0.66      0.67        35\n",
      "\n",
      "    accuracy                           0.67        89\n",
      "   macro avg       0.65      0.64      0.64        89\n",
      "weighted avg       0.67      0.67      0.67        89\n",
      "\n",
      "              precision    recall  f1-score   support\n",
      "\n",
      "         1-8       0.57      0.44      0.50         9\n",
      "        9-60       0.63      0.67      0.65        43\n",
      "         61+       0.68      0.66      0.67        35\n",
      "\n",
      "    accuracy                           0.64        87\n",
      "   macro avg       0.63      0.59      0.61        87\n",
      "weighted avg       0.64      0.64      0.64        87\n",
      "\n",
      "              precision    recall  f1-score   support\n",
      "\n",
      "         1-8       0.75      0.67      0.71         9\n",
      "        9-60       0.75      0.73      0.74        52\n",
      "         61+       0.68      0.72      0.70        36\n",
      "\n",
      "    accuracy                           0.72        97\n",
      "   macro avg       0.73      0.71      0.72        97\n",
      "weighted avg       0.72      0.72      0.72        97\n",
      "\n"
     ]
    }
   ],
   "source": [
    "modeltest(ARTransfBCResPad, dtc)\n",
    "modeltest(ARTransfBCResLin, dtc)\n",
    "modeltest(ARTransfBCResNear, dtc)\n",
    "modeltest(ARMATransfBCResPad, dtc)\n",
    "modeltest(ARMATransfBCResLin, dtc)\n",
    "modeltest(ARMATransfBCResNear, dtc)\n",
    "modeltest(ARIMATransfBCResPad, dtc)\n",
    "modeltest(ARIMATransfBCResLin, dtc)\n",
    "modeltest(ARIMATransfBCResNear, dtc)\n",
    "modeltest(ExpSmTransfBCResPad, dtc)\n",
    "modeltest(ExpSmTransfBCResLin, dtc)\n",
    "modeltest(ExpSmTransfBCResNear, dtc)\n",
    "modeltest(TracesTransfBC, dtc)"
   ]
  },
  {
   "cell_type": "code",
   "execution_count": 97,
   "metadata": {},
   "outputs": [
    {
     "name": "stdout",
     "output_type": "stream",
     "text": [
      "              precision    recall  f1-score   support\n",
      "\n",
      "         1-8       0.50      0.67      0.57         6\n",
      "        9-60       0.81      0.69      0.74        51\n",
      "         61+       0.64      0.78      0.70        27\n",
      "\n",
      "    accuracy                           0.71        84\n",
      "   macro avg       0.65      0.71      0.67        84\n",
      "weighted avg       0.73      0.71      0.72        84\n",
      "\n",
      "              precision    recall  f1-score   support\n",
      "\n",
      "         1-8       0.75      0.75      0.75         8\n",
      "        9-60       0.83      0.73      0.78        48\n",
      "         61+       0.67      0.81      0.73        27\n",
      "\n",
      "    accuracy                           0.76        83\n",
      "   macro avg       0.75      0.76      0.75        83\n",
      "weighted avg       0.77      0.76      0.76        83\n",
      "\n",
      "              precision    recall  f1-score   support\n",
      "\n",
      "         1-8       0.62      0.62      0.62         8\n",
      "        9-60       0.67      0.67      0.67        43\n",
      "         61+       0.63      0.63      0.63        30\n",
      "\n",
      "    accuracy                           0.65        81\n",
      "   macro avg       0.64      0.64      0.64        81\n",
      "weighted avg       0.65      0.65      0.65        81\n",
      "\n",
      "              precision    recall  f1-score   support\n",
      "\n",
      "         1-8       0.38      0.60      0.46         5\n",
      "        9-60       0.62      0.61      0.62        46\n",
      "         61+       0.61      0.57      0.59        35\n",
      "\n",
      "    accuracy                           0.59        86\n",
      "   macro avg       0.53      0.59      0.56        86\n",
      "weighted avg       0.60      0.59      0.60        86\n",
      "\n",
      "              precision    recall  f1-score   support\n",
      "\n",
      "         1-8       0.75      0.67      0.71         9\n",
      "        9-60       0.74      0.73      0.74        48\n",
      "         61+       0.65      0.69      0.67        29\n",
      "\n",
      "    accuracy                           0.71        86\n",
      "   macro avg       0.71      0.70      0.70        86\n",
      "weighted avg       0.71      0.71      0.71        86\n",
      "\n",
      "              precision    recall  f1-score   support\n",
      "\n",
      "         1-8       0.50      0.50      0.50         8\n",
      "        9-60       0.65      0.62      0.64        48\n",
      "         61+       0.59      0.62      0.61        32\n",
      "\n",
      "    accuracy                           0.61        88\n",
      "   macro avg       0.58      0.58      0.58        88\n",
      "weighted avg       0.62      0.61      0.61        88\n",
      "\n",
      "              precision    recall  f1-score   support\n",
      "\n",
      "         1-8       0.38      0.60      0.46         5\n",
      "        9-60       0.80      0.64      0.71        61\n",
      "         61+       0.53      0.70      0.60        27\n",
      "\n",
      "    accuracy                           0.66        93\n",
      "   macro avg       0.57      0.65      0.59        93\n",
      "weighted avg       0.70      0.66      0.67        93\n",
      "\n",
      "              precision    recall  f1-score   support\n",
      "\n",
      "         1-8       0.50      0.67      0.57         6\n",
      "        9-60       0.72      0.67      0.69        51\n",
      "         61+       0.63      0.67      0.65        33\n",
      "\n",
      "    accuracy                           0.67        90\n",
      "   macro avg       0.62      0.67      0.64        90\n",
      "weighted avg       0.67      0.67      0.67        90\n",
      "\n",
      "              precision    recall  f1-score   support\n",
      "\n",
      "         1-8       0.50      0.67      0.57         6\n",
      "        9-60       0.77      0.64      0.70        56\n",
      "         61+       0.54      0.68      0.60        28\n",
      "\n",
      "    accuracy                           0.66        90\n",
      "   macro avg       0.60      0.66      0.62        90\n",
      "weighted avg       0.68      0.66      0.66        90\n",
      "\n",
      "              precision    recall  f1-score   support\n",
      "\n",
      "         1-8       0.43      0.60      0.50         5\n",
      "        9-60       0.70      0.65      0.67        49\n",
      "         61+       0.62      0.64      0.63        33\n",
      "\n",
      "    accuracy                           0.64        87\n",
      "   macro avg       0.58      0.63      0.60        87\n",
      "weighted avg       0.65      0.64      0.65        87\n",
      "\n",
      "              precision    recall  f1-score   support\n",
      "\n",
      "         1-8       0.71      0.56      0.63         9\n",
      "        9-60       0.69      0.72      0.70        46\n",
      "         61+       0.68      0.68      0.68        34\n",
      "\n",
      "    accuracy                           0.69        89\n",
      "   macro avg       0.69      0.65      0.67        89\n",
      "weighted avg       0.69      0.69      0.68        89\n",
      "\n",
      "              precision    recall  f1-score   support\n",
      "\n",
      "         1-8       0.57      0.50      0.53         8\n",
      "        9-60       0.65      0.67      0.66        45\n",
      "         61+       0.65      0.65      0.65        34\n",
      "\n",
      "    accuracy                           0.64        87\n",
      "   macro avg       0.62      0.60      0.61        87\n",
      "weighted avg       0.64      0.64      0.64        87\n",
      "\n",
      "              precision    recall  f1-score   support\n",
      "\n",
      "         1-8       0.75      0.67      0.71         9\n",
      "        9-60       0.73      0.74      0.73        50\n",
      "         61+       0.71      0.71      0.71        38\n",
      "\n",
      "    accuracy                           0.72        97\n",
      "   macro avg       0.73      0.71      0.72        97\n",
      "weighted avg       0.72      0.72      0.72        97\n",
      "\n"
     ]
    }
   ],
   "source": [
    "modeltest(ARTransfBCResPad, etc)\n",
    "modeltest(ARTransfBCResLin, etc)\n",
    "modeltest(ARTransfBCResNear, etc)\n",
    "modeltest(ARMATransfBCResPad, etc)\n",
    "modeltest(ARMATransfBCResLin, etc)\n",
    "modeltest(ARMATransfBCResNear, etc)\n",
    "modeltest(ARIMATransfBCResPad, etc)\n",
    "modeltest(ARIMATransfBCResLin, etc)\n",
    "modeltest(ARIMATransfBCResNear, etc)\n",
    "modeltest(ExpSmTransfBCResPad, etc)\n",
    "modeltest(ExpSmTransfBCResLin, etc)\n",
    "modeltest(ExpSmTransfBCResNear, etc)\n",
    "modeltest(TracesTransfBC, etc)"
   ]
  },
  {
   "cell_type": "code",
   "execution_count": 98,
   "metadata": {},
   "outputs": [
    {
     "name": "stdout",
     "output_type": "stream",
     "text": [
      "              precision    recall  f1-score   support\n",
      "\n",
      "         1-8       0.38      0.50      0.43         6\n",
      "        9-60       0.77      0.66      0.71        50\n",
      "         61+       0.64      0.75      0.69        28\n",
      "\n",
      "    accuracy                           0.68        84\n",
      "   macro avg       0.59      0.64      0.61        84\n",
      "weighted avg       0.70      0.68      0.68        84\n",
      "\n",
      "              precision    recall  f1-score   support\n",
      "\n",
      "         1-8       0.75      0.67      0.71         9\n",
      "        9-60       0.79      0.73      0.76        45\n",
      "         61+       0.70      0.79      0.74        29\n",
      "\n",
      "    accuracy                           0.75        83\n",
      "   macro avg       0.74      0.73      0.74        83\n",
      "weighted avg       0.75      0.75      0.75        83\n",
      "\n",
      "              precision    recall  f1-score   support\n",
      "\n",
      "         1-8       0.38      0.43      0.40         7\n",
      "        9-60       0.60      0.60      0.60        43\n",
      "         61+       0.60      0.58      0.59        31\n",
      "\n",
      "    accuracy                           0.58        81\n",
      "   macro avg       0.53      0.54      0.53        81\n",
      "weighted avg       0.58      0.58      0.58        81\n",
      "\n",
      "              precision    recall  f1-score   support\n",
      "\n",
      "         1-8       0.38      0.43      0.40         7\n",
      "        9-60       0.60      0.59      0.59        46\n",
      "         61+       0.58      0.58      0.58        33\n",
      "\n",
      "    accuracy                           0.57        86\n",
      "   macro avg       0.52      0.53      0.52        86\n",
      "weighted avg       0.57      0.57      0.57        86\n",
      "\n",
      "              precision    recall  f1-score   support\n",
      "\n",
      "         1-8       0.88      0.64      0.74        11\n",
      "        9-60       0.68      0.71      0.70        45\n",
      "         61+       0.61      0.63      0.62        30\n",
      "\n",
      "    accuracy                           0.67        86\n",
      "   macro avg       0.72      0.66      0.69        86\n",
      "weighted avg       0.68      0.67      0.68        86\n",
      "\n",
      "              precision    recall  f1-score   support\n",
      "\n",
      "         1-8       0.50      0.44      0.47         9\n",
      "        9-60       0.63      0.62      0.62        47\n",
      "         61+       0.59      0.62      0.61        32\n",
      "\n",
      "    accuracy                           0.60        88\n",
      "   macro avg       0.57      0.56      0.57        88\n",
      "weighted avg       0.60      0.60      0.60        88\n",
      "\n",
      "              precision    recall  f1-score   support\n",
      "\n",
      "         1-8       0.38      0.50      0.43         6\n",
      "        9-60       0.73      0.63      0.68        57\n",
      "         61+       0.56      0.67      0.61        30\n",
      "\n",
      "    accuracy                           0.63        93\n",
      "   macro avg       0.56      0.60      0.57        93\n",
      "weighted avg       0.65      0.63      0.64        93\n",
      "\n",
      "              precision    recall  f1-score   support\n",
      "\n",
      "         1-8       0.50      0.57      0.53         7\n",
      "        9-60       0.70      0.66      0.68        50\n",
      "         61+       0.63      0.67      0.65        33\n",
      "\n",
      "    accuracy                           0.66        90\n",
      "   macro avg       0.61      0.63      0.62        90\n",
      "weighted avg       0.66      0.66      0.66        90\n",
      "\n",
      "              precision    recall  f1-score   support\n",
      "\n",
      "         1-8       0.50      0.50      0.50         8\n",
      "        9-60       0.68      0.63      0.65        51\n",
      "         61+       0.57      0.65      0.61        31\n",
      "\n",
      "    accuracy                           0.62        90\n",
      "   macro avg       0.58      0.59      0.59        90\n",
      "weighted avg       0.63      0.62      0.62        90\n",
      "\n",
      "              precision    recall  f1-score   support\n",
      "\n",
      "         1-8       0.43      0.50      0.46         6\n",
      "        9-60       0.67      0.63      0.65        49\n",
      "         61+       0.59      0.62      0.61        32\n",
      "\n",
      "    accuracy                           0.62        87\n",
      "   macro avg       0.56      0.59      0.57        87\n",
      "weighted avg       0.63      0.62      0.62        87\n",
      "\n",
      "              precision    recall  f1-score   support\n",
      "\n",
      "         1-8       0.71      0.56      0.63         9\n",
      "        9-60       0.67      0.74      0.70        43\n",
      "         61+       0.74      0.68      0.70        37\n",
      "\n",
      "    accuracy                           0.70        89\n",
      "   macro avg       0.71      0.66      0.68        89\n",
      "weighted avg       0.70      0.70      0.70        89\n",
      "\n",
      "              precision    recall  f1-score   support\n",
      "\n",
      "         1-8       0.71      0.56      0.63         9\n",
      "        9-60       0.61      0.70      0.65        40\n",
      "         61+       0.71      0.63      0.67        38\n",
      "\n",
      "    accuracy                           0.66        87\n",
      "   macro avg       0.68      0.63      0.65        87\n",
      "weighted avg       0.66      0.66      0.66        87\n",
      "\n",
      "              precision    recall  f1-score   support\n",
      "\n",
      "         1-8       0.75      0.67      0.71         9\n",
      "        9-60       0.73      0.74      0.73        50\n",
      "         61+       0.71      0.71      0.71        38\n",
      "\n",
      "    accuracy                           0.72        97\n",
      "   macro avg       0.73      0.71      0.72        97\n",
      "weighted avg       0.72      0.72      0.72        97\n",
      "\n"
     ]
    }
   ],
   "source": [
    "modeltest(ARTransfBCResPad, rf)\n",
    "modeltest(ARTransfBCResLin, rf)\n",
    "modeltest(ARTransfBCResNear, rf)\n",
    "modeltest(ARMATransfBCResPad, rf)\n",
    "modeltest(ARMATransfBCResLin, rf)\n",
    "modeltest(ARMATransfBCResNear, rf)\n",
    "modeltest(ARIMATransfBCResPad, rf)\n",
    "modeltest(ARIMATransfBCResLin, rf)\n",
    "modeltest(ARIMATransfBCResNear, rf)\n",
    "modeltest(ExpSmTransfBCResPad, rf)\n",
    "modeltest(ExpSmTransfBCResLin, rf)\n",
    "modeltest(ExpSmTransfBCResNear, rf)\n",
    "modeltest(TracesTransfBC, rf)"
   ]
  },
  {
   "cell_type": "code",
   "execution_count": 99,
   "metadata": {},
   "outputs": [
    {
     "name": "stdout",
     "output_type": "stream",
     "text": [
      "              precision    recall  f1-score   support\n",
      "\n",
      "         1-8       0.38      0.60      0.46         5\n",
      "        9-60       0.79      0.67      0.72        51\n",
      "         61+       0.64      0.75      0.69        28\n",
      "\n",
      "    accuracy                           0.69        84\n",
      "   macro avg       0.60      0.67      0.62        84\n",
      "weighted avg       0.71      0.69      0.70        84\n",
      "\n",
      "              precision    recall  f1-score   support\n",
      "\n",
      "         1-8       0.75      0.67      0.71         9\n",
      "        9-60       0.81      0.76      0.78        45\n",
      "         61+       0.73      0.83      0.77        29\n",
      "\n",
      "    accuracy                           0.77        83\n",
      "   macro avg       0.76      0.75      0.75        83\n",
      "weighted avg       0.77      0.77      0.77        83\n",
      "\n",
      "              precision    recall  f1-score   support\n",
      "\n",
      "         1-8       0.50      0.57      0.53         7\n",
      "        9-60       0.70      0.68      0.69        44\n",
      "         61+       0.67      0.67      0.67        30\n",
      "\n",
      "    accuracy                           0.67        81\n",
      "   macro avg       0.62      0.64      0.63        81\n",
      "weighted avg       0.67      0.67      0.67        81\n",
      "\n",
      "              precision    recall  f1-score   support\n",
      "\n",
      "         1-8       0.25      0.40      0.31         5\n",
      "        9-60       0.60      0.57      0.59        47\n",
      "         61+       0.58      0.56      0.57        34\n",
      "\n",
      "    accuracy                           0.56        86\n",
      "   macro avg       0.48      0.51      0.49        86\n",
      "weighted avg       0.57      0.56      0.56        86\n",
      "\n",
      "              precision    recall  f1-score   support\n",
      "\n",
      "         1-8       0.88      0.64      0.74        11\n",
      "        9-60       0.72      0.72      0.72        47\n",
      "         61+       0.61      0.68      0.64        28\n",
      "\n",
      "    accuracy                           0.70        86\n",
      "   macro avg       0.74      0.68      0.70        86\n",
      "weighted avg       0.71      0.70      0.70        86\n",
      "\n",
      "              precision    recall  f1-score   support\n",
      "\n",
      "         1-8       0.38      0.38      0.38         8\n",
      "        9-60       0.65      0.65      0.65        46\n",
      "         61+       0.68      0.68      0.68        34\n",
      "\n",
      "    accuracy                           0.64        88\n",
      "   macro avg       0.57      0.57      0.57        88\n",
      "weighted avg       0.64      0.64      0.64        88\n",
      "\n",
      "              precision    recall  f1-score   support\n",
      "\n",
      "         1-8       0.38      0.50      0.43         6\n",
      "        9-60       0.71      0.62      0.67        56\n",
      "         61+       0.56      0.65      0.60        31\n",
      "\n",
      "    accuracy                           0.62        93\n",
      "   macro avg       0.55      0.59      0.56        93\n",
      "weighted avg       0.64      0.62      0.63        93\n",
      "\n",
      "              precision    recall  f1-score   support\n",
      "\n",
      "         1-8       0.38      0.50      0.43         6\n",
      "        9-60       0.72      0.67      0.69        51\n",
      "         61+       0.66      0.70      0.68        33\n",
      "\n",
      "    accuracy                           0.67        90\n",
      "   macro avg       0.59      0.62      0.60        90\n",
      "weighted avg       0.68      0.67      0.67        90\n",
      "\n",
      "              precision    recall  f1-score   support\n",
      "\n",
      "         1-8       0.50      0.50      0.50         8\n",
      "        9-60       0.70      0.65      0.67        51\n",
      "         61+       0.60      0.68      0.64        31\n",
      "\n",
      "    accuracy                           0.64        90\n",
      "   macro avg       0.60      0.61      0.60        90\n",
      "weighted avg       0.65      0.64      0.65        90\n",
      "\n",
      "              precision    recall  f1-score   support\n",
      "\n",
      "         1-8       0.57      0.67      0.62         6\n",
      "        9-60       0.67      0.69      0.68        45\n",
      "         61+       0.68      0.64      0.66        36\n",
      "\n",
      "    accuracy                           0.67        87\n",
      "   macro avg       0.64      0.66      0.65        87\n",
      "weighted avg       0.67      0.67      0.67        87\n",
      "\n",
      "              precision    recall  f1-score   support\n",
      "\n",
      "         1-8       0.71      0.56      0.63         9\n",
      "        9-60       0.69      0.73      0.71        45\n",
      "         61+       0.71      0.69      0.70        35\n",
      "\n",
      "    accuracy                           0.70        89\n",
      "   macro avg       0.70      0.66      0.68        89\n",
      "weighted avg       0.70      0.70      0.70        89\n",
      "\n",
      "              precision    recall  f1-score   support\n",
      "\n",
      "         1-8       0.71      0.56      0.63         9\n",
      "        9-60       0.63      0.71      0.67        41\n",
      "         61+       0.71      0.65      0.68        37\n",
      "\n",
      "    accuracy                           0.67        87\n",
      "   macro avg       0.68      0.64      0.66        87\n",
      "weighted avg       0.67      0.67      0.67        87\n",
      "\n",
      "              precision    recall  f1-score   support\n",
      "\n",
      "         1-8       0.75      0.60      0.67        10\n",
      "        9-60       0.73      0.74      0.73        50\n",
      "         61+       0.71      0.73      0.72        37\n",
      "\n",
      "    accuracy                           0.72        97\n",
      "   macro avg       0.73      0.69      0.71        97\n",
      "weighted avg       0.72      0.72      0.72        97\n",
      "\n"
     ]
    }
   ],
   "source": [
    "modeltest(ARTransfBCResPad, xgb)\n",
    "modeltest(ARTransfBCResLin, xgb)\n",
    "modeltest(ARTransfBCResNear, xgb)\n",
    "modeltest(ARMATransfBCResPad, xgb)\n",
    "modeltest(ARMATransfBCResLin, xgb)\n",
    "modeltest(ARMATransfBCResNear, xgb)\n",
    "modeltest(ARIMATransfBCResPad, xgb)\n",
    "modeltest(ARIMATransfBCResLin, xgb)\n",
    "modeltest(ARIMATransfBCResNear, xgb)\n",
    "modeltest(ExpSmTransfBCResPad, xgb)\n",
    "modeltest(ExpSmTransfBCResLin, xgb)\n",
    "modeltest(ExpSmTransfBCResNear, xgb)\n",
    "modeltest(TracesTransfBC, xgb)"
   ]
  },
  {
   "cell_type": "code",
   "execution_count": 100,
   "metadata": {},
   "outputs": [
    {
     "name": "stdout",
     "output_type": "stream",
     "text": [
      "              precision    recall  f1-score   support\n",
      "\n",
      "         1-8       0.50      0.67      0.57         6\n",
      "        9-60       0.74      0.68      0.71        47\n",
      "         61+       0.67      0.71      0.69        31\n",
      "\n",
      "    accuracy                           0.69        84\n",
      "   macro avg       0.64      0.69      0.66        84\n",
      "weighted avg       0.70      0.69      0.69        84\n",
      "\n",
      "              precision    recall  f1-score   support\n",
      "\n",
      "         1-8       0.75      0.67      0.71         9\n",
      "        9-60       0.76      0.71      0.74        45\n",
      "         61+       0.67      0.76      0.71        29\n",
      "\n",
      "    accuracy                           0.72        83\n",
      "   macro avg       0.73      0.71      0.72        83\n",
      "weighted avg       0.73      0.72      0.72        83\n",
      "\n",
      "              precision    recall  f1-score   support\n",
      "\n",
      "         1-8       0.75      0.67      0.71         9\n",
      "        9-60       0.65      0.70      0.67        40\n",
      "         61+       0.67      0.62      0.65        32\n",
      "\n",
      "    accuracy                           0.67        81\n",
      "   macro avg       0.69      0.66      0.68        81\n",
      "weighted avg       0.67      0.67      0.67        81\n",
      "\n",
      "              precision    recall  f1-score   support\n",
      "\n",
      "         1-8       0.50      0.57      0.53         7\n",
      "        9-60       0.62      0.61      0.62        46\n",
      "         61+       0.58      0.58      0.58        33\n",
      "\n",
      "    accuracy                           0.59        86\n",
      "   macro avg       0.57      0.59      0.57        86\n",
      "weighted avg       0.59      0.59      0.59        86\n",
      "\n",
      "              precision    recall  f1-score   support\n",
      "\n",
      "         1-8       0.75      0.67      0.71         9\n",
      "        9-60       0.72      0.72      0.72        47\n",
      "         61+       0.65      0.67      0.66        30\n",
      "\n",
      "    accuracy                           0.70        86\n",
      "   macro avg       0.71      0.69      0.70        86\n",
      "weighted avg       0.70      0.70      0.70        86\n",
      "\n",
      "              precision    recall  f1-score   support\n",
      "\n",
      "         1-8       0.50      0.50      0.50         8\n",
      "        9-60       0.65      0.65      0.65        46\n",
      "         61+       0.65      0.65      0.65        34\n",
      "\n",
      "    accuracy                           0.64        88\n",
      "   macro avg       0.60      0.60      0.60        88\n",
      "weighted avg       0.64      0.64      0.64        88\n",
      "\n",
      "              precision    recall  f1-score   support\n",
      "\n",
      "         1-8       0.38      0.60      0.46         5\n",
      "        9-60       0.76      0.63      0.69        59\n",
      "         61+       0.53      0.66      0.58        29\n",
      "\n",
      "    accuracy                           0.63        93\n",
      "   macro avg       0.55      0.63      0.58        93\n",
      "weighted avg       0.66      0.63      0.64        93\n",
      "\n",
      "              precision    recall  f1-score   support\n",
      "\n",
      "         1-8       0.50      0.67      0.57         6\n",
      "        9-60       0.72      0.67      0.69        51\n",
      "         61+       0.63      0.67      0.65        33\n",
      "\n",
      "    accuracy                           0.67        90\n",
      "   macro avg       0.62      0.67      0.64        90\n",
      "weighted avg       0.67      0.67      0.67        90\n",
      "\n",
      "              precision    recall  f1-score   support\n",
      "\n",
      "         1-8       0.62      0.62      0.62         8\n",
      "        9-60       0.72      0.63      0.67        54\n",
      "         61+       0.51      0.64      0.57        28\n",
      "\n",
      "    accuracy                           0.63        90\n",
      "   macro avg       0.62      0.63      0.62        90\n",
      "weighted avg       0.65      0.63      0.64        90\n",
      "\n",
      "              precision    recall  f1-score   support\n",
      "\n",
      "         1-8       0.57      0.67      0.62         6\n",
      "        9-60       0.70      0.70      0.70        46\n",
      "         61+       0.68      0.66      0.67        35\n",
      "\n",
      "    accuracy                           0.68        87\n",
      "   macro avg       0.65      0.67      0.66        87\n",
      "weighted avg       0.68      0.68      0.68        87\n",
      "\n",
      "              precision    recall  f1-score   support\n",
      "\n",
      "         1-8       0.71      0.56      0.63         9\n",
      "        9-60       0.69      0.72      0.70        46\n",
      "         61+       0.68      0.68      0.68        34\n",
      "\n",
      "    accuracy                           0.69        89\n",
      "   macro avg       0.69      0.65      0.67        89\n",
      "weighted avg       0.69      0.69      0.68        89\n",
      "\n",
      "              precision    recall  f1-score   support\n",
      "\n",
      "         1-8       0.71      0.56      0.63         9\n",
      "        9-60       0.67      0.70      0.69        44\n",
      "         61+       0.68      0.68      0.68        34\n",
      "\n",
      "    accuracy                           0.68        87\n",
      "   macro avg       0.69      0.65      0.66        87\n",
      "weighted avg       0.68      0.68      0.68        87\n",
      "\n",
      "              precision    recall  f1-score   support\n",
      "\n",
      "         1-8       0.75      0.67      0.71         9\n",
      "        9-60       0.75      0.73      0.74        52\n",
      "         61+       0.68      0.72      0.70        36\n",
      "\n",
      "    accuracy                           0.72        97\n",
      "   macro avg       0.73      0.71      0.72        97\n",
      "weighted avg       0.72      0.72      0.72        97\n",
      "\n"
     ]
    }
   ],
   "source": [
    "modeltest(ARTransfBCResPad, clf)\n",
    "modeltest(ARTransfBCResLin, clf)\n",
    "modeltest(ARTransfBCResNear, clf)\n",
    "modeltest(ARMATransfBCResPad, clf)\n",
    "modeltest(ARMATransfBCResLin, clf)\n",
    "modeltest(ARMATransfBCResNear, clf)\n",
    "modeltest(ARIMATransfBCResPad, clf)\n",
    "modeltest(ARIMATransfBCResLin, clf)\n",
    "modeltest(ARIMATransfBCResNear, clf)\n",
    "modeltest(ExpSmTransfBCResPad, clf)\n",
    "modeltest(ExpSmTransfBCResLin, clf)\n",
    "modeltest(ExpSmTransfBCResNear, clf)\n",
    "modeltest(TracesTransfBC, clf)"
   ]
  },
  {
   "cell_type": "code",
   "execution_count": 101,
   "metadata": {},
   "outputs": [
    {
     "name": "stdout",
     "output_type": "stream",
     "text": [
      "              precision    recall  f1-score   support\n",
      "\n",
      "         1-8       0.62      0.71      0.67         7\n",
      "        9-60       0.74      0.70      0.72        46\n",
      "         61+       0.67      0.71      0.69        31\n",
      "\n",
      "    accuracy                           0.70        84\n",
      "   macro avg       0.68      0.71      0.69        84\n",
      "weighted avg       0.71      0.70      0.70        84\n",
      "\n",
      "              precision    recall  f1-score   support\n",
      "\n",
      "         1-8       0.75      0.67      0.71         9\n",
      "        9-60       0.76      0.73      0.74        44\n",
      "         61+       0.70      0.77      0.73        30\n",
      "\n",
      "    accuracy                           0.73        83\n",
      "   macro avg       0.74      0.72      0.73        83\n",
      "weighted avg       0.74      0.73      0.73        83\n",
      "\n",
      "              precision    recall  f1-score   support\n",
      "\n",
      "         1-8       0.75      0.67      0.71         9\n",
      "        9-60       0.67      0.72      0.70        40\n",
      "         61+       0.70      0.66      0.68        32\n",
      "\n",
      "    accuracy                           0.69        81\n",
      "   macro avg       0.71      0.68      0.69        81\n",
      "weighted avg       0.69      0.69      0.69        81\n",
      "\n",
      "              precision    recall  f1-score   support\n",
      "\n",
      "         1-8       0.50      0.50      0.50         8\n",
      "        9-60       0.64      0.63      0.64        46\n",
      "         61+       0.58      0.59      0.58        32\n",
      "\n",
      "    accuracy                           0.60        86\n",
      "   macro avg       0.57      0.57      0.57        86\n",
      "weighted avg       0.61      0.60      0.60        86\n",
      "\n",
      "              precision    recall  f1-score   support\n",
      "\n",
      "         1-8       0.75      0.60      0.67        10\n",
      "        9-60       0.66      0.70      0.68        44\n",
      "         61+       0.65      0.62      0.63        32\n",
      "\n",
      "    accuracy                           0.66        86\n",
      "   macro avg       0.68      0.64      0.66        86\n",
      "weighted avg       0.66      0.66      0.66        86\n",
      "\n",
      "              precision    recall  f1-score   support\n",
      "\n",
      "         1-8       0.62      0.62      0.62         8\n",
      "        9-60       0.67      0.65      0.66        48\n",
      "         61+       0.59      0.62      0.61        32\n",
      "\n",
      "    accuracy                           0.64        88\n",
      "   macro avg       0.63      0.63      0.63        88\n",
      "weighted avg       0.64      0.64      0.64        88\n",
      "\n",
      "              precision    recall  f1-score   support\n",
      "\n",
      "         1-8       0.62      0.62      0.62         8\n",
      "        9-60       0.73      0.65      0.69        55\n",
      "         61+       0.56      0.67      0.61        30\n",
      "\n",
      "    accuracy                           0.66        93\n",
      "   macro avg       0.64      0.65      0.64        93\n",
      "weighted avg       0.67      0.66      0.66        93\n",
      "\n",
      "              precision    recall  f1-score   support\n",
      "\n",
      "         1-8       0.50      0.57      0.53         7\n",
      "        9-60       0.72      0.67      0.69        51\n",
      "         61+       0.63      0.69      0.66        32\n",
      "\n",
      "    accuracy                           0.67        90\n",
      "   macro avg       0.62      0.64      0.63        90\n",
      "weighted avg       0.67      0.67      0.67        90\n",
      "\n",
      "              precision    recall  f1-score   support\n",
      "\n",
      "         1-8       0.62      0.56      0.59         9\n",
      "        9-60       0.72      0.64      0.68        53\n",
      "         61+       0.54      0.68      0.60        28\n",
      "\n",
      "    accuracy                           0.64        90\n",
      "   macro avg       0.63      0.63      0.62        90\n",
      "weighted avg       0.66      0.64      0.65        90\n",
      "\n",
      "              precision    recall  f1-score   support\n",
      "\n",
      "         1-8       0.57      0.57      0.57         7\n",
      "        9-60       0.72      0.70      0.71        47\n",
      "         61+       0.68      0.70      0.69        33\n",
      "\n",
      "    accuracy                           0.69        87\n",
      "   macro avg       0.66      0.66      0.66        87\n",
      "weighted avg       0.69      0.69      0.69        87\n",
      "\n",
      "              precision    recall  f1-score   support\n",
      "\n",
      "         1-8       0.71      0.56      0.63         9\n",
      "        9-60       0.71      0.71      0.71        48\n",
      "         61+       0.65      0.69      0.67        32\n",
      "\n",
      "    accuracy                           0.69        89\n",
      "   macro avg       0.69      0.65      0.67        89\n",
      "weighted avg       0.69      0.69      0.68        89\n",
      "\n",
      "              precision    recall  f1-score   support\n",
      "\n",
      "         1-8       0.71      0.56      0.63         9\n",
      "        9-60       0.67      0.69      0.68        45\n",
      "         61+       0.65      0.67      0.66        33\n",
      "\n",
      "    accuracy                           0.67        87\n",
      "   macro avg       0.68      0.64      0.65        87\n",
      "weighted avg       0.67      0.67      0.67        87\n",
      "\n",
      "              precision    recall  f1-score   support\n",
      "\n",
      "         1-8       0.62      0.62      0.62         8\n",
      "        9-60       0.76      0.71      0.74        55\n",
      "         61+       0.66      0.74      0.69        34\n",
      "\n",
      "    accuracy                           0.71        97\n",
      "   macro avg       0.68      0.69      0.69        97\n",
      "weighted avg       0.72      0.71      0.71        97\n",
      "\n"
     ]
    }
   ],
   "source": [
    "modeltest(ARTransfBCResPad, NN)\n",
    "modeltest(ARTransfBCResLin, NN)\n",
    "modeltest(ARTransfBCResNear, NN)\n",
    "modeltest(ARMATransfBCResPad, NN)\n",
    "modeltest(ARMATransfBCResLin, NN)\n",
    "modeltest(ARMATransfBCResNear, NN)\n",
    "modeltest(ARIMATransfBCResPad, NN)\n",
    "modeltest(ARIMATransfBCResLin, NN)\n",
    "modeltest(ARIMATransfBCResNear, NN)\n",
    "modeltest(ExpSmTransfBCResPad, NN)\n",
    "modeltest(ExpSmTransfBCResLin, NN)\n",
    "modeltest(ExpSmTransfBCResNear, NN)\n",
    "modeltest(TracesTransfBC, NN)"
   ]
  },
  {
   "cell_type": "code",
   "execution_count": 102,
   "metadata": {},
   "outputs": [
    {
     "name": "stdout",
     "output_type": "stream",
     "text": [
      "              precision    recall  f1-score   support\n",
      "\n",
      "         1-8       0.88      0.78      0.82         9\n",
      "        9-60       0.83      0.78      0.80        45\n",
      "         61+       0.73      0.83      0.77        29\n",
      "\n",
      "    accuracy                           0.80        83\n",
      "   macro avg       0.81      0.79      0.80        83\n",
      "weighted avg       0.80      0.80      0.80        83\n",
      "\n",
      "              precision    recall  f1-score   support\n",
      "\n",
      "         1-8       0.75      0.75      0.75         8\n",
      "        9-60       0.83      0.73      0.78        48\n",
      "         61+       0.67      0.81      0.73        27\n",
      "\n",
      "    accuracy                           0.76        83\n",
      "   macro avg       0.75      0.76      0.75        83\n",
      "weighted avg       0.77      0.76      0.76        83\n",
      "\n",
      "              precision    recall  f1-score   support\n",
      "\n",
      "         1-8       0.75      0.67      0.71         9\n",
      "        9-60       0.74      0.73      0.74        48\n",
      "         61+       0.65      0.69      0.67        29\n",
      "\n",
      "    accuracy                           0.71        86\n",
      "   macro avg       0.71      0.70      0.70        86\n",
      "weighted avg       0.71      0.71      0.71        86\n",
      "\n",
      "              precision    recall  f1-score   support\n",
      "\n",
      "         1-8       0.75      0.67      0.71         9\n",
      "        9-60       0.79      0.73      0.76        45\n",
      "         61+       0.70      0.79      0.74        29\n",
      "\n",
      "    accuracy                           0.75        83\n",
      "   macro avg       0.74      0.73      0.74        83\n",
      "weighted avg       0.75      0.75      0.75        83\n",
      "\n",
      "              precision    recall  f1-score   support\n",
      "\n",
      "         1-8       0.88      0.64      0.74        11\n",
      "        9-60       0.68      0.71      0.70        45\n",
      "         61+       0.61      0.63      0.62        30\n",
      "\n",
      "    accuracy                           0.67        86\n",
      "   macro avg       0.72      0.66      0.69        86\n",
      "weighted avg       0.68      0.67      0.68        86\n",
      "\n",
      "              precision    recall  f1-score   support\n",
      "\n",
      "         1-8       0.75      0.67      0.71         9\n",
      "        9-60       0.81      0.76      0.78        45\n",
      "         61+       0.73      0.83      0.77        29\n",
      "\n",
      "    accuracy                           0.77        83\n",
      "   macro avg       0.76      0.75      0.75        83\n",
      "weighted avg       0.77      0.77      0.77        83\n",
      "\n",
      "              precision    recall  f1-score   support\n",
      "\n",
      "         1-8       0.88      0.64      0.74        11\n",
      "        9-60       0.72      0.72      0.72        47\n",
      "         61+       0.61      0.68      0.64        28\n",
      "\n",
      "    accuracy                           0.70        86\n",
      "   macro avg       0.74      0.68      0.70        86\n",
      "weighted avg       0.71      0.70      0.70        86\n",
      "\n",
      "              precision    recall  f1-score   support\n",
      "\n",
      "         1-8       0.75      0.67      0.71         9\n",
      "        9-60       0.72      0.72      0.72        47\n",
      "         61+       0.65      0.67      0.66        30\n",
      "\n",
      "    accuracy                           0.70        86\n",
      "   macro avg       0.71      0.69      0.70        86\n",
      "weighted avg       0.70      0.70      0.70        86\n",
      "\n",
      "              precision    recall  f1-score   support\n",
      "\n",
      "         1-8       0.75      0.60      0.67        10\n",
      "        9-60       0.66      0.70      0.68        44\n",
      "         61+       0.65      0.62      0.63        32\n",
      "\n",
      "    accuracy                           0.66        86\n",
      "   macro avg       0.68      0.64      0.66        86\n",
      "weighted avg       0.66      0.66      0.66        86\n",
      "\n"
     ]
    }
   ],
   "source": [
    "# best results\n",
    "modeltest(ARTransfBCResLin, dtc)\n",
    "modeltest(ARTransfBCResLin, etc)\n",
    "modeltest(ARMATransfBCResLin, etc)\n",
    "modeltest(ARTransfBCResLin, rf)\n",
    "modeltest(ARMATransfBCResLin, rf)\n",
    "modeltest(ARTransfBCResLin, xgb)\n",
    "modeltest(ARMATransfBCResLin, xgb)\n",
    "modeltest(ARMATransfBCResLin, clf)\n",
    "modeltest(ARMATransfBCResLin, NN)"
   ]
  },
  {
   "cell_type": "markdown",
   "metadata": {},
   "source": [
    "It can be concluded that the good strategy is to interpolate with 'Linear' method. \n",
    "The best results in predicting parameters were shown by AR and ARMA models.\n",
    "The best results in predicting final places were shown by Decision Tree and Neural net with 3 hidden layers."
   ]
  },
  {
   "cell_type": "code",
   "execution_count": 103,
   "metadata": {},
   "outputs": [
    {
     "data": {
      "text/plain": [
       "<AxesSubplot:>"
      ]
     },
     "execution_count": 103,
     "metadata": {},
     "output_type": "execute_result"
    },
    {
     "data": {
      "image/png": "[encoded data removed]",
      "text/plain": [
       "<Figure size 432x288 with 1 Axes>"
      ]
     },
     "metadata": {
      "needs_background": "light"
     },
     "output_type": "display_data"
    }
   ],
   "source": [
    "# research on the contribution of each parameter to the results of the biathlete\n",
    "rf_importances = pd.Series(rf.feature_importances_, index=[X.columns.values])\n",
    "rf_importances.plot.bar()"
   ]
  },
  {
   "cell_type": "markdown",
   "metadata": {},
   "source": [
    "The speed value provides up to 60% to final result. \n",
    "However if the categories were more detailed (every 10 places) the contribution of speed becomes less and shooting accuracy begins to play a more important role"
   ]
  },
  {
   "cell_type": "code",
   "execution_count": 104,
   "metadata": {},
   "outputs": [
    {
     "data": {
      "text/plain": [
       "<AxesSubplot:>"
      ]
     },
     "execution_count": 104,
     "metadata": {},
     "output_type": "execute_result"
    },
    {
     "data": {
      "image/png": "[encoded data removed]",
      "text/plain": [
       "<Figure size 432x288 with 1 Axes>"
      ]
     },
     "metadata": {
      "needs_background": "light"
     },
     "output_type": "display_data"
    }
   ],
   "source": [
    "InputForPred = pd.DataFrame()\n",
    "for table in AllSprintList[:16]:\n",
    "    table = table.loc[table['totalShootingTime'] < table['totalShootingTime'].quantile(0.99)]\n",
    "    table = table.loc[table['speed'] > table['speed'].quantile(0.01)]\n",
    "    table[['speed', 'totalShootingTime']] = MinMaxScaler().fit_transform(table[\n",
    "        ['speed', 'totalShootingTime']])\n",
    "    table[['speed', 'pronePercent', 'standingPercent', 'totalShootingTime']] = StandardScaler().fit_transform(table[\n",
    "        ['speed', 'pronePercent', 'standingPercent', 'totalShootingTime']])\n",
    "    InputForPred = InputForPred.append(table)\n",
    "InputForPred['Rank'] = pd.cut(InputForPred['Rank'], [0, 3, 10, 20, 30, 50, 70, 90, 113]).cat.codes\n",
    "X = InputForPred[InputForPred.columns[5:9]]\n",
    "y = InputForPred['Rank']\n",
    "X_train, X_test, y_train, y_test = train_test_split(\n",
    "            X, y, test_size=0.33, random_state=42)\n",
    "\n",
    "rf = RandomForestClassifier(max_depth=9, \n",
    "min_samples_leaf=3, min_samples_split=2, n_estimators=20)\n",
    "rf.fit(X_train, y_train)\n",
    "\n",
    "rf_importances = pd.Series(rf.feature_importances_\n",
    "                        , index=[X.columns.values])\n",
    "rf_importances.plot.bar()"
   ]
  }
 ],
 "metadata": {
  "kernelspec": {
   "display_name": "Python 3",
   "language": "python",
   "name": "python3"
  },
  "language_info": {
   "codemirror_mode": {
    "name": "ipython",
    "version": 3
   },
   "file_extension": ".py",
   "mimetype": "text/x-python",
   "name": "python",
   "nbconvert_exporter": "python",
   "pygments_lexer": "ipython3",
   "version": "3.8.5"
  }
 },
 "nbformat": 4,
 "nbformat_minor": 4
}
